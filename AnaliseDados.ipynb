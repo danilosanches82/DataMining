{
 "cells": [
  {
   "cell_type": "code",
   "execution_count": 1,
   "metadata": {},
   "outputs": [
    {
     "name": "stdout",
     "output_type": "stream",
     "text": [
      "[1 2 3 4 5]\n"
     ]
    }
   ],
   "source": [
    "import numpy\n",
    "\n",
    "#Exemplo simples Numpy\n",
    "lista = [1, 2, 3, 4, 5]\n",
    "x = numpy.array(lista)\n",
    "print(x)"
   ]
  },
  {
   "cell_type": "code",
   "execution_count": 2,
   "metadata": {},
   "outputs": [
    {
     "name": "stdout",
     "output_type": "stream",
     "text": [
      "[3 4 5 6 7]\n",
      "[-1  0  1  2  3]\n",
      "[ 1  0 -1 -2 -3]\n",
      "[ 2  4  6  8 10]\n",
      "[0.5 1.  1.5 2.  2.5]\n",
      "[2.         1.         0.66666667 0.5        0.4       ]\n"
     ]
    }
   ],
   "source": [
    "#Exemplo1 Numpy array\n",
    "x = numpy.array([1, 2, 3, 4, 5])\n",
    "y = 2\n",
    "print(x + y)\n",
    "print(x - y)\n",
    "print(y - x)\n",
    "print(x * y)\n",
    "print(x / y)\n",
    "print(y / x)\n"
   ]
  },
  {
   "cell_type": "code",
   "execution_count": 3,
   "metadata": {},
   "outputs": [
    {
     "name": "stdout",
     "output_type": "stream",
     "text": [
      "[ 7  9 11 13 15]\n",
      "[-5 -5 -5 -5 -5]\n",
      "[5 5 5 5 5]\n",
      "[ 6 14 24 36 50]\n",
      "[0.16666667 0.28571429 0.375      0.44444444 0.5       ]\n",
      "[6.         3.5        2.66666667 2.25       2.        ]\n"
     ]
    }
   ],
   "source": [
    "#Exemplo2 Numpy array\n",
    "x = numpy.array([1, 2, 3, 4, 5])\n",
    "y = numpy.array([6, 7, 8, 9, 10])\n",
    "print(x + y)\n",
    "print(x - y)\n",
    "print(y - x)\n",
    "print(x * y)\n",
    "print(x / y)\n",
    "print(y / x)\n"
   ]
  },
  {
   "cell_type": "code",
   "execution_count": 4,
   "metadata": {},
   "outputs": [
    {
     "name": "stdout",
     "output_type": "stream",
     "text": [
      "15\n",
      "5\n",
      "1\n"
     ]
    }
   ],
   "source": [
    "#Dica: https://scipy.github.io/old-wiki/pages/EricsBroadcastingDoc\n",
    "#Mais operações:\n",
    "print(numpy.sum(x))\n",
    "#retorna a soma de todos os elementos de x.\n",
    "print(numpy.max(x))\n",
    "#retorna o valor máximo contido em x.\n",
    "print(numpy.min(x))\n",
    "#retorna o valor mínimo contido em x.\n"
   ]
  },
  {
   "cell_type": "code",
   "execution_count": 5,
   "metadata": {},
   "outputs": [
    {
     "name": "stdout",
     "output_type": "stream",
     "text": [
      "[196 415 578 844  54 410 782  78 891 882 699 893 152 795 571 775 231 508\n",
      " 861 500  67 521 859 517 954 814 629   4 947 498]\n",
      "564.1666666666666\n",
      "564.1666666666666\n"
     ]
    }
   ],
   "source": [
    "#>>>>>>>>>>>>>>>>>Análise de Dados\n",
    "#MÉDIA\n",
    "# gerando um array com 100 valores aleatorios\n",
    "# sorteados entre 0 e 1000\n",
    "x = numpy.random.randint(low=0, high=1000, size=30)\n",
    "# calculando a media utilizando os metodos\n",
    "# numpy.sum e len\n",
    "print(x)\n",
    "media = numpy.sum(x) / len(x)\n",
    "print(media)\n",
    "# mais facilmente, podemos utilizar o metodo numpy.mean\n",
    "media = numpy.mean(x)\n",
    "print(media)"
   ]
  },
  {
   "cell_type": "code",
   "execution_count": 6,
   "metadata": {},
   "outputs": [
    {
     "name": "stdout",
     "output_type": "stream",
     "text": [
      "574.5\n",
      "167.39999999999998\n",
      "950\n"
     ]
    }
   ],
   "source": [
    "#MEDIANA\n",
    "mediana = numpy.median(x)\n",
    "print(mediana)\n",
    "\n",
    "#PERCENTIS\n",
    "# para calcular p15%\n",
    "percentil_15 = numpy.percentile(x, 15)\n",
    "print(percentil_15)\n",
    "\n",
    "#Medidas de dispersão ou espalhamento\n",
    "valor_maximo = numpy.max(x)\n",
    "valor_minimo = numpy.min(x)\n",
    "intervalo = valor_maximo - valor_minimo\n",
    "print(intervalo)"
   ]
  },
  {
   "cell_type": "code",
   "execution_count": 7,
   "metadata": {},
   "outputs": [
    {
     "name": "stdout",
     "output_type": "stream",
     "text": [
      "90822.14367816094\n",
      "301.36712441499145\n"
     ]
    }
   ],
   "source": [
    "#VARIANCIA E DESVIO PADRÃO]\n",
    "media = numpy.mean(x)\n",
    "n = len(x)\n",
    "diferencas = x - media\n",
    "variancia = numpy.sum(diferencas * diferencas) / (n - 1)\n",
    "desvio_padrao = numpy.sqrt(variancia)\n",
    "# de maneira mais facil, podemos utilizar as seguintes funcoes\n",
    "variancia = numpy.var(x, ddof=1)\n",
    "desvio_padrao = numpy.std(x, ddof=1)\n",
    "print(variancia)\n",
    "print(desvio_padrao)"
   ]
  },
  {
   "cell_type": "code",
   "execution_count": 9,
   "metadata": {},
   "outputs": [
    {
     "data": {
      "image/png": "[encoded data removed]",
      "text/plain": [
       "<Figure size 432x288 with 1 Axes>"
      ]
     },
     "metadata": {
      "needs_background": "light"
     },
     "output_type": "display_data"
    }
   ],
   "source": [
    "import numpy as np\n",
    "import matplotlib.pyplot as plt\n",
    "# fake up some data\n",
    "spread = np.random.rand(50) * 100\n",
    "center = np.ones(25) * 50\n",
    "flier_high = np.random.rand(10) * 100 + 100\n",
    "flier_low = np.random.rand(10) * -100\n",
    "data = np.concatenate((spread, center, flier_high, flier_low))\n",
    "# Fixing random state for reproducibility\n",
    "fig1, ax1 = plt.subplots()\n",
    "ax1.set_title('Basic Plot')\n",
    "ax1.boxplot(data)\n",
    "plt.show()"
   ]
  }
 ],
 "metadata": {
  "kernelspec": {
   "display_name": "Python 3",
   "language": "python",
   "name": "python3"
  },
  "language_info": {
   "codemirror_mode": {
    "name": "ipython",
    "version": 3
   },
   "file_extension": ".py",
   "mimetype": "text/x-python",
   "name": "python",
   "nbconvert_exporter": "python",
   "pygments_lexer": "ipython3",
   "version": "3.6.9"
  }
 },
 "nbformat": 4,
 "nbformat_minor": 2
}
