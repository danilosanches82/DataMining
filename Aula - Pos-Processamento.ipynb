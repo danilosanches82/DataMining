{
 "cells": [
  {
   "cell_type": "markdown",
   "metadata": {},
   "source": [
    "# Estudo de caso com o framework MathFeature\n",
    "- https://bonidia.github.io/MathFeature/\n",
    "\n",
    "Utilização por linha de comando:\n",
    "- git clone https://github.com/Bonidia/MathFeature.git MathFeature\n",
    "- cd MathFeature\n",
    "- pip3 install -r requirements.txt\n",
    "- apt-get -y install python3-igraph\n",
    "\n",
    "## Baixando sequências de repositórios públicos\n",
    "- GENCODE: https://www.gencodegenes.org/\n",
    "- PHYTOZOME: https://phytozome-next.jgi.doe.gov/\n",
    "- GREENC: http://greenc.sequentiabiotech.com/wiki/Main_Page"
   ]
  },
  {
   "cell_type": "markdown",
   "metadata": {},
   "source": [
    "## Etapas de pré-processamento\n",
    "\n",
    "- Contagem da quantidade de sequências;\n",
    "- Amostragem;\n",
    "- Remoção de redundância;\n",
    "- Eliminação de ruídos.\n",
    "- Extração de características;\n",
    "- Composição da base de dados"
   ]
  },
  {
   "cell_type": "markdown",
   "metadata": {},
   "source": [
    "## Modelo: Arabidopsis thaliana\n",
    "Base (lncRNA) GREENC: http://greenc.sequentiabiotech.com/wiki/Species:Arabidopsis_thaliana\n",
    "\n",
    "Base (mRNA) Phytozome: https://data.jgi.doe.gov/refine-download/phytozome?genome_id=167"
   ]
  },
  {
   "cell_type": "markdown",
   "metadata": {},
   "source": [
    "#### Divisão da base em treino e teste"
   ]
  },
  {
   "cell_type": "code",
   "execution_count": 1,
   "metadata": {},
   "outputs": [],
   "source": [
    "#Base lncRNA e mRNA\n",
    "import os \n",
    "import pandas\n",
    "import matplotlib.pyplot as plt\n",
    "from sklearn.tree import DecisionTreeClassifier\n",
    "from sklearn import tree\n",
    "from sklearn.preprocessing import LabelEncoder\n",
    "from sklearn.model_selection import train_test_split\n",
    "from sklearn.metrics import (recall_score,\n",
    "                             accuracy_score,\n",
    "                             precision_score,\n",
    "                             f1_score)\n",
    "\n",
    "def split(finput, test_rate):\n",
    "    dataset = pandas.read_csv(finput)\n",
    "    X = dataset.iloc[:, :-1]\n",
    "    y = dataset.iloc[:, -1]\n",
    "    \n",
    "    X_train, X_test, y_train, y_test = train_test_split(X, y, test_size = test_rate)\n",
    "    train = pandas.concat([X_train, y_train], axis=1)\n",
    "    test = pandas.concat([X_test, y_test], axis=1)\n",
    "    \n",
    "    trainData = os.path.splitext(finput)[0]+\"_train\"+os.path.splitext(finput)[1]\n",
    "    testData = os.path.splitext(finput)[0]+\"_test\"+os.path.splitext(finput)[1]\n",
    "    train.to_csv(trainData, index=False)\n",
    "    test.to_csv(testData, index=False)    \n",
    "    return                             \n",
    "\n",
    "\n",
    "# Aplica a divisão treino e teste nas bases mRNA e lncRNA\n",
    "\n",
    "split('bases/mRNA.csv',0.3)\n",
    "split('bases/lncRNA.csv',0.3)\n",
    "\n",
    "# carrega a base de dados treino lncRNA e mRNA\n",
    "lncRNA_data = pandas.read_csv('bases/lncRNA_train.csv')\n",
    "mRNA_data = pandas.read_csv('bases/mRNA_train.csv')\n",
    "dadosTreino = pandas.concat([lncRNA_data,mRNA_data])"
   ]
  },
  {
   "cell_type": "code",
   "execution_count": 2,
   "metadata": {},
   "outputs": [
    {
     "data": {
      "text/plain": [
       "Index(['nameseq', 'maximum_ORF_length', 'minimum_ORF_length', 'std_ORF_length',\n",
       "       'average_ORF_length', 'cv_ORF_length', 'maximum_GC_content_ORF',\n",
       "       'minimum_GC_content_ORF', 'std_GC_content_ORF',\n",
       "       'average_GC_content_ORF', 'cv_GC_content_ORF', 'fickett_score-ORF',\n",
       "       'fickett_score-full-sequence', 'A', 'C', 'G', 'T', 'AA', 'AC', 'AG',\n",
       "       'AT', 'CA', 'CC', 'CG', 'CT', 'GA', 'GC', 'GG', 'GT', 'TA', 'TC', 'TG',\n",
       "       'TT', 'AAA', 'AAC', 'AAG', 'AAT', 'ACA', 'ACC', 'ACG', 'ACT', 'AGA',\n",
       "       'AGC', 'AGG', 'AGT', 'ATA', 'ATC', 'ATG', 'ATT', 'CAA', 'CAC', 'CAG',\n",
       "       'CAT', 'CCA', 'CCC', 'CCG', 'CCT', 'CGA', 'CGC', 'CGG', 'CGT', 'CTA',\n",
       "       'CTC', 'CTG', 'CTT', 'GAA', 'GAC', 'GAG', 'GAT', 'GCA', 'GCC', 'GCG',\n",
       "       'GCT', 'GGA', 'GGC', 'GGG', 'GGT', 'GTA', 'GTC', 'GTG', 'GTT', 'TAA',\n",
       "       'TAC', 'TAG', 'TAT', 'TCA', 'TCC', 'TCG', 'TCT', 'TGA', 'TGC', 'TGG',\n",
       "       'TGT', 'TTA', 'TTC', 'TTG', 'TTT', 'label'],\n",
       "      dtype='object')"
      ]
     },
     "execution_count": 2,
     "metadata": {},
     "output_type": "execute_result"
    }
   ],
   "source": [
    "dadosTreino.columns"
   ]
  },
  {
   "cell_type": "code",
   "execution_count": 3,
   "metadata": {},
   "outputs": [],
   "source": [
    "## Remove column nameseq\n",
    "dadosTreino.drop(columns='nameseq', inplace=True)"
   ]
  },
  {
   "cell_type": "markdown",
   "metadata": {},
   "source": [
    "## Normalização dos dados"
   ]
  },
  {
   "cell_type": "code",
   "execution_count": 4,
   "metadata": {},
   "outputs": [],
   "source": [
    "## Transform categorical in binary class values\n",
    "from sklearn.preprocessing import LabelEncoder\n",
    "le = LabelEncoder()\n",
    "dadosTreino[\"label\"] = le.fit_transform(dadosTreino[\"label\"])"
   ]
  },
  {
   "cell_type": "code",
   "execution_count": 5,
   "metadata": {},
   "outputs": [],
   "source": [
    "from sklearn.preprocessing import MinMaxScaler\n",
    "\n",
    "# create a scaler object\n",
    "scaler = MinMaxScaler()\n",
    "# fit and transform the data\n",
    "cols = dadosTreino.iloc[:, 0:11].columns\n",
    "dadosTreino[cols] = pandas.DataFrame(scaler.fit_transform(dadosTreino.iloc[:, 0:11]), columns=dadosTreino.iloc[:, 0:11].columns)"
   ]
  },
  {
   "cell_type": "code",
   "execution_count": 6,
   "metadata": {},
   "outputs": [
    {
     "data": {
      "text/html": [
       "<div>\n",
       "<style scoped>\n",
       "    .dataframe tbody tr th:only-of-type {\n",
       "        vertical-align: middle;\n",
       "    }\n",
       "\n",
       "    .dataframe tbody tr th {\n",
       "        vertical-align: top;\n",
       "    }\n",
       "\n",
       "    .dataframe thead th {\n",
       "        text-align: right;\n",
       "    }\n",
       "</style>\n",
       "<table border=\"1\" class=\"dataframe\">\n",
       "  <thead>\n",
       "    <tr style=\"text-align: right;\">\n",
       "      <th></th>\n",
       "      <th>maximum_ORF_length</th>\n",
       "      <th>minimum_ORF_length</th>\n",
       "      <th>std_ORF_length</th>\n",
       "      <th>average_ORF_length</th>\n",
       "      <th>cv_ORF_length</th>\n",
       "      <th>maximum_GC_content_ORF</th>\n",
       "      <th>minimum_GC_content_ORF</th>\n",
       "      <th>std_GC_content_ORF</th>\n",
       "      <th>average_GC_content_ORF</th>\n",
       "      <th>cv_GC_content_ORF</th>\n",
       "      <th>...</th>\n",
       "      <th>TCT</th>\n",
       "      <th>TGA</th>\n",
       "      <th>TGC</th>\n",
       "      <th>TGG</th>\n",
       "      <th>TGT</th>\n",
       "      <th>TTA</th>\n",
       "      <th>TTC</th>\n",
       "      <th>TTG</th>\n",
       "      <th>TTT</th>\n",
       "      <th>label</th>\n",
       "    </tr>\n",
       "  </thead>\n",
       "  <tbody>\n",
       "    <tr>\n",
       "      <th>0</th>\n",
       "      <td>0.041608</td>\n",
       "      <td>0.035948</td>\n",
       "      <td>0.114076</td>\n",
       "      <td>0.154684</td>\n",
       "      <td>0.128968</td>\n",
       "      <td>0.567460</td>\n",
       "      <td>0.568831</td>\n",
       "      <td>0.148484</td>\n",
       "      <td>0.575410</td>\n",
       "      <td>0.116276</td>\n",
       "      <td>...</td>\n",
       "      <td>0.018868</td>\n",
       "      <td>0.018868</td>\n",
       "      <td>0.022642</td>\n",
       "      <td>0.011321</td>\n",
       "      <td>0.018868</td>\n",
       "      <td>0.022642</td>\n",
       "      <td>0.030189</td>\n",
       "      <td>0.030189</td>\n",
       "      <td>0.030189</td>\n",
       "      <td>0</td>\n",
       "    </tr>\n",
       "    <tr>\n",
       "      <th>1</th>\n",
       "      <td>0.025713</td>\n",
       "      <td>0.016340</td>\n",
       "      <td>0.073255</td>\n",
       "      <td>0.084967</td>\n",
       "      <td>0.150770</td>\n",
       "      <td>0.466667</td>\n",
       "      <td>0.417143</td>\n",
       "      <td>0.149619</td>\n",
       "      <td>0.468274</td>\n",
       "      <td>0.143971</td>\n",
       "      <td>...</td>\n",
       "      <td>0.025932</td>\n",
       "      <td>0.021070</td>\n",
       "      <td>0.016207</td>\n",
       "      <td>0.014587</td>\n",
       "      <td>0.022690</td>\n",
       "      <td>0.032415</td>\n",
       "      <td>0.014587</td>\n",
       "      <td>0.038898</td>\n",
       "      <td>0.047002</td>\n",
       "      <td>0</td>\n",
       "    </tr>\n",
       "    <tr>\n",
       "      <th>2</th>\n",
       "      <td>0.041141</td>\n",
       "      <td>0.016340</td>\n",
       "      <td>0.091118</td>\n",
       "      <td>0.106209</td>\n",
       "      <td>0.150029</td>\n",
       "      <td>0.698148</td>\n",
       "      <td>0.635491</td>\n",
       "      <td>0.210943</td>\n",
       "      <td>0.716759</td>\n",
       "      <td>0.132611</td>\n",
       "      <td>...</td>\n",
       "      <td>0.024359</td>\n",
       "      <td>0.019231</td>\n",
       "      <td>0.016667</td>\n",
       "      <td>0.024359</td>\n",
       "      <td>0.029487</td>\n",
       "      <td>0.008974</td>\n",
       "      <td>0.024359</td>\n",
       "      <td>0.028205</td>\n",
       "      <td>0.039744</td>\n",
       "      <td>0</td>\n",
       "    </tr>\n",
       "    <tr>\n",
       "      <th>3</th>\n",
       "      <td>0.036933</td>\n",
       "      <td>0.006536</td>\n",
       "      <td>0.105814</td>\n",
       "      <td>0.107843</td>\n",
       "      <td>0.171586</td>\n",
       "      <td>0.543038</td>\n",
       "      <td>0.260714</td>\n",
       "      <td>0.381069</td>\n",
       "      <td>0.422612</td>\n",
       "      <td>0.406303</td>\n",
       "      <td>...</td>\n",
       "      <td>0.046259</td>\n",
       "      <td>0.016327</td>\n",
       "      <td>0.006803</td>\n",
       "      <td>0.002721</td>\n",
       "      <td>0.025850</td>\n",
       "      <td>0.023129</td>\n",
       "      <td>0.048980</td>\n",
       "      <td>0.014966</td>\n",
       "      <td>0.057143</td>\n",
       "      <td>0</td>\n",
       "    </tr>\n",
       "    <tr>\n",
       "      <th>4</th>\n",
       "      <td>0.050023</td>\n",
       "      <td>0.006536</td>\n",
       "      <td>0.106352</td>\n",
       "      <td>0.065686</td>\n",
       "      <td>0.283141</td>\n",
       "      <td>0.619048</td>\n",
       "      <td>0.391071</td>\n",
       "      <td>0.348973</td>\n",
       "      <td>0.546184</td>\n",
       "      <td>0.287899</td>\n",
       "      <td>...</td>\n",
       "      <td>0.032043</td>\n",
       "      <td>0.014686</td>\n",
       "      <td>0.008011</td>\n",
       "      <td>0.017356</td>\n",
       "      <td>0.034713</td>\n",
       "      <td>0.016021</td>\n",
       "      <td>0.038718</td>\n",
       "      <td>0.030708</td>\n",
       "      <td>0.036048</td>\n",
       "      <td>0</td>\n",
       "    </tr>\n",
       "    <tr>\n",
       "      <th>...</th>\n",
       "      <td>...</td>\n",
       "      <td>...</td>\n",
       "      <td>...</td>\n",
       "      <td>...</td>\n",
       "      <td>...</td>\n",
       "      <td>...</td>\n",
       "      <td>...</td>\n",
       "      <td>...</td>\n",
       "      <td>...</td>\n",
       "      <td>...</td>\n",
       "      <td>...</td>\n",
       "      <td>...</td>\n",
       "      <td>...</td>\n",
       "      <td>...</td>\n",
       "      <td>...</td>\n",
       "      <td>...</td>\n",
       "      <td>...</td>\n",
       "      <td>...</td>\n",
       "      <td>...</td>\n",
       "      <td>...</td>\n",
       "      <td>...</td>\n",
       "    </tr>\n",
       "    <tr>\n",
       "      <th>2100</th>\n",
       "      <td>0.030856</td>\n",
       "      <td>0.013072</td>\n",
       "      <td>0.071549</td>\n",
       "      <td>0.074230</td>\n",
       "      <td>0.168562</td>\n",
       "      <td>0.695960</td>\n",
       "      <td>0.391071</td>\n",
       "      <td>0.507622</td>\n",
       "      <td>0.576205</td>\n",
       "      <td>0.396965</td>\n",
       "      <td>...</td>\n",
       "      <td>0.015331</td>\n",
       "      <td>0.027178</td>\n",
       "      <td>0.016028</td>\n",
       "      <td>0.024390</td>\n",
       "      <td>0.013937</td>\n",
       "      <td>0.014634</td>\n",
       "      <td>0.010453</td>\n",
       "      <td>0.030662</td>\n",
       "      <td>0.018815</td>\n",
       "      <td>1</td>\n",
       "    </tr>\n",
       "    <tr>\n",
       "      <th>2101</th>\n",
       "      <td>0.017298</td>\n",
       "      <td>0.055556</td>\n",
       "      <td>0.027703</td>\n",
       "      <td>0.079739</td>\n",
       "      <td>0.060757</td>\n",
       "      <td>0.524561</td>\n",
       "      <td>0.535521</td>\n",
       "      <td>0.123972</td>\n",
       "      <td>0.543546</td>\n",
       "      <td>0.102772</td>\n",
       "      <td>...</td>\n",
       "      <td>0.019162</td>\n",
       "      <td>0.028743</td>\n",
       "      <td>0.010778</td>\n",
       "      <td>0.011976</td>\n",
       "      <td>0.017964</td>\n",
       "      <td>0.023952</td>\n",
       "      <td>0.019162</td>\n",
       "      <td>0.020359</td>\n",
       "      <td>0.027545</td>\n",
       "      <td>1</td>\n",
       "    </tr>\n",
       "    <tr>\n",
       "      <th>2102</th>\n",
       "      <td>0.055166</td>\n",
       "      <td>0.035948</td>\n",
       "      <td>0.162723</td>\n",
       "      <td>0.157516</td>\n",
       "      <td>0.180658</td>\n",
       "      <td>0.613889</td>\n",
       "      <td>0.391071</td>\n",
       "      <td>0.477085</td>\n",
       "      <td>0.564993</td>\n",
       "      <td>0.380488</td>\n",
       "      <td>...</td>\n",
       "      <td>0.016760</td>\n",
       "      <td>0.026536</td>\n",
       "      <td>0.020950</td>\n",
       "      <td>0.022346</td>\n",
       "      <td>0.016760</td>\n",
       "      <td>0.008380</td>\n",
       "      <td>0.019553</td>\n",
       "      <td>0.025140</td>\n",
       "      <td>0.019553</td>\n",
       "      <td>1</td>\n",
       "    </tr>\n",
       "    <tr>\n",
       "      <th>2103</th>\n",
       "      <td>0.040673</td>\n",
       "      <td>0.026144</td>\n",
       "      <td>0.097725</td>\n",
       "      <td>0.093137</td>\n",
       "      <td>0.183491</td>\n",
       "      <td>0.688235</td>\n",
       "      <td>0.469286</td>\n",
       "      <td>0.375200</td>\n",
       "      <td>0.557285</td>\n",
       "      <td>0.303371</td>\n",
       "      <td>...</td>\n",
       "      <td>0.016529</td>\n",
       "      <td>0.008264</td>\n",
       "      <td>0.024793</td>\n",
       "      <td>0.041322</td>\n",
       "      <td>0.033058</td>\n",
       "      <td>0.033058</td>\n",
       "      <td>0.008264</td>\n",
       "      <td>0.057851</td>\n",
       "      <td>0.049587</td>\n",
       "      <td>1</td>\n",
       "    </tr>\n",
       "    <tr>\n",
       "      <th>2104</th>\n",
       "      <td>0.130902</td>\n",
       "      <td>0.022876</td>\n",
       "      <td>0.327409</td>\n",
       "      <td>0.182073</td>\n",
       "      <td>0.314470</td>\n",
       "      <td>0.547857</td>\n",
       "      <td>0.521429</td>\n",
       "      <td>0.137435</td>\n",
       "      <td>0.551744</td>\n",
       "      <td>0.112240</td>\n",
       "      <td>...</td>\n",
       "      <td>0.023000</td>\n",
       "      <td>0.023000</td>\n",
       "      <td>0.013000</td>\n",
       "      <td>0.022000</td>\n",
       "      <td>0.016000</td>\n",
       "      <td>0.014000</td>\n",
       "      <td>0.025000</td>\n",
       "      <td>0.030000</td>\n",
       "      <td>0.017000</td>\n",
       "      <td>1</td>\n",
       "    </tr>\n",
       "  </tbody>\n",
       "</table>\n",
       "<p>4209 rows × 97 columns</p>\n",
       "</div>"
      ],
      "text/plain": [
       "      maximum_ORF_length  minimum_ORF_length  std_ORF_length  \\\n",
       "0               0.041608            0.035948        0.114076   \n",
       "1               0.025713            0.016340        0.073255   \n",
       "2               0.041141            0.016340        0.091118   \n",
       "3               0.036933            0.006536        0.105814   \n",
       "4               0.050023            0.006536        0.106352   \n",
       "...                  ...                 ...             ...   \n",
       "2100            0.030856            0.013072        0.071549   \n",
       "2101            0.017298            0.055556        0.027703   \n",
       "2102            0.055166            0.035948        0.162723   \n",
       "2103            0.040673            0.026144        0.097725   \n",
       "2104            0.130902            0.022876        0.327409   \n",
       "\n",
       "      average_ORF_length  cv_ORF_length  maximum_GC_content_ORF  \\\n",
       "0               0.154684       0.128968                0.567460   \n",
       "1               0.084967       0.150770                0.466667   \n",
       "2               0.106209       0.150029                0.698148   \n",
       "3               0.107843       0.171586                0.543038   \n",
       "4               0.065686       0.283141                0.619048   \n",
       "...                  ...            ...                     ...   \n",
       "2100            0.074230       0.168562                0.695960   \n",
       "2101            0.079739       0.060757                0.524561   \n",
       "2102            0.157516       0.180658                0.613889   \n",
       "2103            0.093137       0.183491                0.688235   \n",
       "2104            0.182073       0.314470                0.547857   \n",
       "\n",
       "      minimum_GC_content_ORF  std_GC_content_ORF  average_GC_content_ORF  \\\n",
       "0                   0.568831            0.148484                0.575410   \n",
       "1                   0.417143            0.149619                0.468274   \n",
       "2                   0.635491            0.210943                0.716759   \n",
       "3                   0.260714            0.381069                0.422612   \n",
       "4                   0.391071            0.348973                0.546184   \n",
       "...                      ...                 ...                     ...   \n",
       "2100                0.391071            0.507622                0.576205   \n",
       "2101                0.535521            0.123972                0.543546   \n",
       "2102                0.391071            0.477085                0.564993   \n",
       "2103                0.469286            0.375200                0.557285   \n",
       "2104                0.521429            0.137435                0.551744   \n",
       "\n",
       "      cv_GC_content_ORF  ...       TCT       TGA       TGC       TGG  \\\n",
       "0              0.116276  ...  0.018868  0.018868  0.022642  0.011321   \n",
       "1              0.143971  ...  0.025932  0.021070  0.016207  0.014587   \n",
       "2              0.132611  ...  0.024359  0.019231  0.016667  0.024359   \n",
       "3              0.406303  ...  0.046259  0.016327  0.006803  0.002721   \n",
       "4              0.287899  ...  0.032043  0.014686  0.008011  0.017356   \n",
       "...                 ...  ...       ...       ...       ...       ...   \n",
       "2100           0.396965  ...  0.015331  0.027178  0.016028  0.024390   \n",
       "2101           0.102772  ...  0.019162  0.028743  0.010778  0.011976   \n",
       "2102           0.380488  ...  0.016760  0.026536  0.020950  0.022346   \n",
       "2103           0.303371  ...  0.016529  0.008264  0.024793  0.041322   \n",
       "2104           0.112240  ...  0.023000  0.023000  0.013000  0.022000   \n",
       "\n",
       "           TGT       TTA       TTC       TTG       TTT  label  \n",
       "0     0.018868  0.022642  0.030189  0.030189  0.030189      0  \n",
       "1     0.022690  0.032415  0.014587  0.038898  0.047002      0  \n",
       "2     0.029487  0.008974  0.024359  0.028205  0.039744      0  \n",
       "3     0.025850  0.023129  0.048980  0.014966  0.057143      0  \n",
       "4     0.034713  0.016021  0.038718  0.030708  0.036048      0  \n",
       "...        ...       ...       ...       ...       ...    ...  \n",
       "2100  0.013937  0.014634  0.010453  0.030662  0.018815      1  \n",
       "2101  0.017964  0.023952  0.019162  0.020359  0.027545      1  \n",
       "2102  0.016760  0.008380  0.019553  0.025140  0.019553      1  \n",
       "2103  0.033058  0.033058  0.008264  0.057851  0.049587      1  \n",
       "2104  0.016000  0.014000  0.025000  0.030000  0.017000      1  \n",
       "\n",
       "[4209 rows x 97 columns]"
      ]
     },
     "execution_count": 6,
     "metadata": {},
     "output_type": "execute_result"
    }
   ],
   "source": [
    "dadosTreino"
   ]
  },
  {
   "cell_type": "code",
   "execution_count": 7,
   "metadata": {},
   "outputs": [],
   "source": [
    "#Divide a base entre os previsores e classe\n",
    "colunas = dadosTreino.columns.drop('label')\n",
    "\n",
    "# Gera os previsores e classe (X e y)\n",
    "X = dadosTreino[colunas].values\n",
    "y = dadosTreino['label']\n",
    "\n",
    "## Gera os dados de teste\n",
    "# carrega a base de dados teste lncRNA e mRNA\n",
    "lncRNA_test = pandas.read_csv('bases/lncRNA_test.csv')\n",
    "mRNA_test = pandas.read_csv('bases/mRNA_test.csv')\n",
    "dados = pandas.concat([lncRNA_test,mRNA_test])\n",
    "\n",
    "dadosTeste = dados.columns.drop('label')\n",
    "X_teste = dados[dadosTeste].values\n",
    "\n",
    "##Remove categorical column nameseq\n",
    "import numpy as np\n",
    "X_teste = np.delete(X_teste, 0, axis=1)\n",
    "\n",
    "##Label Encoder Tranform\n",
    "y_teste = dados['label']\n",
    "y_teste = le.fit_transform(y_teste)"
   ]
  },
  {
   "cell_type": "markdown",
   "metadata": {},
   "source": [
    "#### Atributos utilizados: "
   ]
  },
  {
   "cell_type": "code",
   "execution_count": 8,
   "metadata": {},
   "outputs": [
    {
     "name": "stdout",
     "output_type": "stream",
     "text": [
      "Columns size >>> 96\n",
      "Index(['maximum_ORF_length', 'minimum_ORF_length', 'std_ORF_length',\n",
      "       'average_ORF_length', 'cv_ORF_length', 'maximum_GC_content_ORF',\n",
      "       'minimum_GC_content_ORF', 'std_GC_content_ORF',\n",
      "       'average_GC_content_ORF', 'cv_GC_content_ORF', 'fickett_score-ORF',\n",
      "       'fickett_score-full-sequence', 'A', 'C', 'G', 'T', 'AA', 'AC', 'AG',\n",
      "       'AT', 'CA', 'CC', 'CG', 'CT', 'GA', 'GC', 'GG', 'GT', 'TA', 'TC', 'TG',\n",
      "       'TT', 'AAA', 'AAC', 'AAG', 'AAT', 'ACA', 'ACC', 'ACG', 'ACT', 'AGA',\n",
      "       'AGC', 'AGG', 'AGT', 'ATA', 'ATC', 'ATG', 'ATT', 'CAA', 'CAC', 'CAG',\n",
      "       'CAT', 'CCA', 'CCC', 'CCG', 'CCT', 'CGA', 'CGC', 'CGG', 'CGT', 'CTA',\n",
      "       'CTC', 'CTG', 'CTT', 'GAA', 'GAC', 'GAG', 'GAT', 'GCA', 'GCC', 'GCG',\n",
      "       'GCT', 'GGA', 'GGC', 'GGG', 'GGT', 'GTA', 'GTC', 'GTG', 'GTT', 'TAA',\n",
      "       'TAC', 'TAG', 'TAT', 'TCA', 'TCC', 'TCG', 'TCT', 'TGA', 'TGC', 'TGG',\n",
      "       'TGT', 'TTA', 'TTC', 'TTG', 'TTT', 'label'],\n",
      "      dtype='object')\n"
     ]
    }
   ],
   "source": [
    "# Exibe a quantidade de atributos\n",
    "print(\"Columns size >>> %d\"%len(colunas))\n",
    "\n",
    "# Exibe o nome dos atributos\n",
    "print(dadosTreino.columns)"
   ]
  },
  {
   "cell_type": "code",
   "execution_count": 9,
   "metadata": {},
   "outputs": [
    {
     "name": "stdout",
     "output_type": "stream",
     "text": [
      "(4209, 96) (4209,) (1805, 96) (1805,)\n"
     ]
    }
   ],
   "source": [
    "print(X.shape, y.shape, X_teste.shape, y_teste.shape)"
   ]
  },
  {
   "cell_type": "code",
   "execution_count": 10,
   "metadata": {},
   "outputs": [
    {
     "name": "stdout",
     "output_type": "stream",
     "text": [
      "67.98\n"
     ]
    }
   ],
   "source": [
    "# Modelo preditivo Decision Tree\n",
    "# instancia um DecisionTreeClassifier\n",
    "clf = DecisionTreeClassifier()\n",
    "# treina o knn\n",
    "clf.fit(X, y)\n",
    "\n",
    "y_pred = clf.predict(X_teste)\n",
    "#print(y_pred)\n",
    "\n",
    " # gerar score baseado na acurácia\n",
    "acuracidade = round(accuracy_score(y_teste,y_pred)*100,2)\n",
    "print(acuracidade)"
   ]
  },
  {
   "cell_type": "markdown",
   "metadata": {},
   "source": [
    "## (1) Análise dos componentes principais"
   ]
  },
  {
   "cell_type": "code",
   "execution_count": 11,
   "metadata": {},
   "outputs": [
    {
     "data": {
      "image/png": "[encoded data removed]",
      "text/plain": [
       "<Figure size 432x288 with 1 Axes>"
      ]
     },
     "metadata": {
      "needs_background": "light"
     },
     "output_type": "display_data"
    }
   ],
   "source": [
    "# Redução da dimensionalidade\n",
    "#Principal Component Analysis (PCA)\n",
    "import pandas \n",
    "import numpy \n",
    "import matplotlib.pyplot as plt\n",
    "from pandas.plotting import scatter_matrix\n",
    "from sklearn.decomposition import PCA\n",
    "from sklearn import preprocessing\n",
    "\n",
    "# criando um dicionario para mapear cada classe para uma cor\n",
    "classe_cor = {0 : 'red', \n",
    "              1 : 'blue'}\n",
    "# criando uma lista com as cores de cada exemplo\n",
    "cores = [classe_cor[nome] for nome in dadosTreino['label']]\n",
    "\n",
    "data_scaled = pandas.DataFrame(preprocessing.scale(dadosTreino),columns = dadosTreino.columns) \n",
    "\n",
    "# PCA\n",
    "pca = PCA(n_components=3)\n",
    "#pca = PCA()\n",
    "pc = pca.fit_transform(data_scaled)\n",
    "pca.n_components_\n",
    "\n",
    "fig = plt.figure()\n",
    "ax = fig.add_subplot(projection='3d')\n",
    "ax.scatter(pc[:,0], pc[:,1],pc[:,2], color=cores)\n",
    "\n",
    "ax.set_xlabel('PC1')\n",
    "ax.set_ylabel('PC2')\n",
    "ax.set_zlabel('PC3')\n",
    "\n",
    "plt.show()\n"
   ]
  },
  {
   "cell_type": "markdown",
   "metadata": {},
   "source": [
    "## (2) Avaliação dos modelos preditivos"
   ]
  },
  {
   "cell_type": "markdown",
   "metadata": {},
   "source": [
    "### Validação Cruzada _(Cross-Validation)_\n",
    "\n"
   ]
  },
  {
   "attachments": {
    "crossValidation2.png": {
     "image/png": "[encoded data removed]"
    }
   },
   "cell_type": "markdown",
   "metadata": {},
   "source": [
    "![crossValidation2.png](attachment:crossValidation2.png)"
   ]
  },
  {
   "cell_type": "code",
   "execution_count": 12,
   "metadata": {},
   "outputs": [],
   "source": [
    "from sklearn.model_selection import KFold \n",
    "from sklearn.model_selection import cross_val_score \n",
    "from sklearn.model_selection import cross_val_predict "
   ]
  },
  {
   "cell_type": "markdown",
   "metadata": {},
   "source": [
    "### Aplica seleção de features (Filtro)"
   ]
  },
  {
   "cell_type": "code",
   "execution_count": 37,
   "metadata": {},
   "outputs": [
    {
     "data": {
      "text/plain": [
       "SelectKBest(k=48, score_func=<function mutual_info_classif at 0x7f7e67de3840>)"
      ]
     },
     "execution_count": 37,
     "metadata": {},
     "output_type": "execute_result"
    }
   ],
   "source": [
    "#Feature selection with Mutual Information \n",
    "from sklearn.feature_selection import SelectKBest\n",
    "from sklearn.feature_selection import mutual_info_classif\n",
    "\n",
    "selector = SelectKBest(score_func=mutual_info_classif, k=48)\n",
    "\n",
    "selector.fit(X, y)"
   ]
  },
  {
   "cell_type": "code",
   "execution_count": 38,
   "metadata": {},
   "outputs": [],
   "source": [
    "# to remove the rest of the features:\n",
    "X = selector.transform(X)\n",
    "X_teste = selector.transform(X_teste)"
   ]
  },
  {
   "cell_type": "markdown",
   "metadata": {},
   "source": [
    "### Validação cruzada no conjunto reduzido"
   ]
  },
  {
   "cell_type": "code",
   "execution_count": 39,
   "metadata": {},
   "outputs": [],
   "source": [
    "kfold = KFold(n_splits=10, shuffle=True, random_state=123)"
   ]
  },
  {
   "cell_type": "code",
   "execution_count": 40,
   "metadata": {},
   "outputs": [],
   "source": [
    "# instancia um DecisionTreeClassifier\n",
    "clf = DecisionTreeClassifier()"
   ]
  },
  {
   "cell_type": "code",
   "execution_count": 41,
   "metadata": {},
   "outputs": [
    {
     "name": "stdout",
     "output_type": "stream",
     "text": [
      "O score cross-validado do Decision Tree é: 0.7769002375296912\n"
     ]
    }
   ],
   "source": [
    "resultado = cross_val_score(clf, X, y, cv=kfold, scoring='accuracy')\n",
    "\n",
    "print('O score cross-validado do Decision Tree é:', resultado.mean())"
   ]
  },
  {
   "cell_type": "code",
   "execution_count": 42,
   "metadata": {},
   "outputs": [
    {
     "data": {
      "text/plain": [
       "array([0.80522565, 0.78859857, 0.77434679, 0.76009501, 0.77434679,\n",
       "       0.7695962 , 0.80760095, 0.76247031, 0.77672209, 0.75      ])"
      ]
     },
     "execution_count": 42,
     "metadata": {},
     "output_type": "execute_result"
    }
   ],
   "source": [
    "resultado"
   ]
  },
  {
   "cell_type": "code",
   "execution_count": 43,
   "metadata": {},
   "outputs": [
    {
     "data": {
      "text/plain": [
       "DecisionTreeClassifier(ccp_alpha=0.0, class_weight=None, criterion='gini',\n",
       "                       max_depth=None, max_features=None, max_leaf_nodes=None,\n",
       "                       min_impurity_decrease=0.0, min_impurity_split=None,\n",
       "                       min_samples_leaf=1, min_samples_split=2,\n",
       "                       min_weight_fraction_leaf=0.0, presort='deprecated',\n",
       "                       random_state=None, splitter='best')"
      ]
     },
     "execution_count": 43,
     "metadata": {},
     "output_type": "execute_result"
    }
   ],
   "source": [
    "clf.fit(X,y)"
   ]
  },
  {
   "cell_type": "code",
   "execution_count": 44,
   "metadata": {},
   "outputs": [
    {
     "data": {
      "text/plain": [
       "array([0, 0, 1, ..., 1, 0, 1])"
      ]
     },
     "execution_count": 44,
     "metadata": {},
     "output_type": "execute_result"
    }
   ],
   "source": [
    "clf_pred = clf.predict(X_teste)\n",
    "clf_pred"
   ]
  },
  {
   "cell_type": "markdown",
   "metadata": {},
   "source": [
    "# Matriz de Confusão \n",
    "\n",
    "Essa média as vezes pode ser enganosa. Nós podemos analisar a Matriz de Confusão _(Confusion Matrix)_ que nos mostra aonde o modelo errou. Falsos Positivos x Falso Negativos."
   ]
  },
  {
   "cell_type": "code",
   "execution_count": 45,
   "metadata": {},
   "outputs": [],
   "source": [
    "from sklearn.metrics import confusion_matrix\n",
    "import seaborn as sns"
   ]
  },
  {
   "cell_type": "code",
   "execution_count": 46,
   "metadata": {},
   "outputs": [
    {
     "data": {
      "image/png": "[encoded data removed]",
      "text/plain": [
       "<Figure size 432x288 with 2 Axes>"
      ]
     },
     "metadata": {
      "needs_background": "light"
     },
     "output_type": "display_data"
    }
   ],
   "source": [
    "sns.heatmap(confusion_matrix(y_teste, clf_pred), cmap='OrRd', annot=True, fmt='2.0f')\n",
    "plt.title('Decision Tree')\n",
    "plt.ylabel('P R E V I S T O')\n",
    "plt.xlabel('R E A L')\n",
    "plt.show()"
   ]
  },
  {
   "cell_type": "markdown",
   "metadata": {},
   "source": [
    "### Interpretando a Matriz de Confusão\n",
    "A diagonal da esquerda mostra o total de predições corretas, a da direita mostra o total de predições erradas.\n"
   ]
  },
  {
   "cell_type": "markdown",
   "metadata": {},
   "source": [
    "<a name=\"precision\"></a>"
   ]
  },
  {
   "cell_type": "markdown",
   "metadata": {},
   "source": [
    "$$Precisão = {\\frac {Verdadeiros Positivos}{Verdadeiros Positivos + Falsos Positivos}} $$"
   ]
  },
  {
   "cell_type": "markdown",
   "metadata": {},
   "source": [
    "<a name=\"accuracy\"></a>"
   ]
  },
  {
   "cell_type": "markdown",
   "metadata": {},
   "source": [
    "$$Revocação = {\\frac {Verdadeiros Positivos}{Verdadeiros Positivos + Falsos Negativos}} $$"
   ]
  },
  {
   "cell_type": "markdown",
   "metadata": {},
   "source": [
    "<a name=\"accuracy\"></a>"
   ]
  },
  {
   "cell_type": "markdown",
   "metadata": {},
   "source": [
    "$$Acuracidade = {\\frac {Verdadeiros Positivos+Verdadeiros Negativos}{Total}} $$"
   ]
  },
  {
   "cell_type": "markdown",
   "metadata": {},
   "source": [
    "<a name=\"accuracy\"></a>"
   ]
  },
  {
   "cell_type": "markdown",
   "metadata": {},
   "source": [
    "$$F1-Score = 2 x{\\frac {Precisão \\cdot Revocação}{Precisão + Revocação}} $$"
   ]
  },
  {
   "cell_type": "markdown",
   "metadata": {},
   "source": [
    "### Importando métricas do Sklearn"
   ]
  },
  {
   "cell_type": "code",
   "execution_count": 47,
   "metadata": {},
   "outputs": [],
   "source": [
    "from sklearn.metrics import (recall_score,\n",
    "                             accuracy_score,\n",
    "                             precision_score,\n",
    "                             f1_score)"
   ]
  },
  {
   "cell_type": "markdown",
   "metadata": {},
   "source": [
    "### Revocação"
   ]
  },
  {
   "cell_type": "code",
   "execution_count": 48,
   "metadata": {},
   "outputs": [
    {
     "data": {
      "text/plain": [
       "0.7918050941306756"
      ]
     },
     "execution_count": 48,
     "metadata": {},
     "output_type": "execute_result"
    }
   ],
   "source": [
    "recall_score(y_teste,clf_pred)"
   ]
  },
  {
   "cell_type": "markdown",
   "metadata": {},
   "source": [
    "### Acuracidade"
   ]
  },
  {
   "cell_type": "code",
   "execution_count": 49,
   "metadata": {},
   "outputs": [
    {
     "data": {
      "text/plain": [
       "0.7900277008310249"
      ]
     },
     "execution_count": 49,
     "metadata": {},
     "output_type": "execute_result"
    }
   ],
   "source": [
    "accuracy_score(y_teste,clf_pred)"
   ]
  },
  {
   "cell_type": "markdown",
   "metadata": {},
   "source": [
    "### Precisão"
   ]
  },
  {
   "cell_type": "code",
   "execution_count": 50,
   "metadata": {},
   "outputs": [
    {
     "data": {
      "text/plain": [
       "0.7891832229580574"
      ]
     },
     "execution_count": 50,
     "metadata": {},
     "output_type": "execute_result"
    }
   ],
   "source": [
    "precision_score(y_teste,clf_pred)"
   ]
  },
  {
   "cell_type": "markdown",
   "metadata": {},
   "source": [
    "### F1-Score"
   ]
  },
  {
   "cell_type": "code",
   "execution_count": 51,
   "metadata": {},
   "outputs": [
    {
     "data": {
      "text/plain": [
       "0.7904919845218353"
      ]
     },
     "execution_count": 51,
     "metadata": {},
     "output_type": "execute_result"
    }
   ],
   "source": [
    "f1_score(y_teste,clf_pred)"
   ]
  },
  {
   "cell_type": "code",
   "execution_count": null,
   "metadata": {},
   "outputs": [],
   "source": []
  },
  {
   "cell_type": "markdown",
   "metadata": {},
   "source": [
    "## Avaliando diferentes modelos de predição"
   ]
  },
  {
   "cell_type": "markdown",
   "metadata": {},
   "source": [
    "#### Árvore de Decisão "
   ]
  },
  {
   "cell_type": "code",
   "execution_count": 52,
   "metadata": {},
   "outputs": [],
   "source": [
    "#Fitting Decision Tree Algorithm\n",
    "from sklearn.tree import DecisionTreeClassifier\n",
    "# instancia um DecisionTreeClassifier\n",
    "clf_DT = DecisionTreeClassifier()\n",
    "\n",
    "# treina o classificador\n",
    "clf_DT.fit(X, y)\n",
    "DT_pred = clf_DT.predict(X_teste)"
   ]
  },
  {
   "cell_type": "markdown",
   "metadata": {},
   "source": [
    "#### Algoritmo KNN"
   ]
  },
  {
   "cell_type": "code",
   "execution_count": 53,
   "metadata": {},
   "outputs": [],
   "source": [
    "#Fitting K-NN Algorithm\n",
    "from sklearn.neighbors import KNeighborsClassifier\n",
    "clf_KNN = KNeighborsClassifier(n_neighbors = 5, metric = 'minkowski', p = 2)\n",
    "\n",
    "# treina o classificador\n",
    "clf_KNN.fit(X, y)\n",
    "KNN_pred = clf_KNN.predict(X_teste)"
   ]
  },
  {
   "cell_type": "markdown",
   "metadata": {},
   "source": [
    "#### Algoritmo Randon Forest "
   ]
  },
  {
   "cell_type": "code",
   "execution_count": 54,
   "metadata": {},
   "outputs": [],
   "source": [
    "#Fitting Random Forest Classification Algorithm\n",
    "from sklearn.ensemble import RandomForestClassifier\n",
    "clf_RF = RandomForestClassifier(n_estimators = 100, criterion = 'entropy')\n",
    "\n",
    "# treina o classificador\n",
    "clf_RF.fit(X, y)\n",
    "RF_pred = clf_RF.predict(X_teste)"
   ]
  },
  {
   "cell_type": "markdown",
   "metadata": {},
   "source": [
    "### (2) Matriz Confusão"
   ]
  },
  {
   "cell_type": "code",
   "execution_count": 55,
   "metadata": {},
   "outputs": [],
   "source": [
    "from sklearn.metrics import confusion_matrix\n",
    "import seaborn as sns"
   ]
  },
  {
   "cell_type": "markdown",
   "metadata": {},
   "source": [
    "#### Árvore de Decisão"
   ]
  },
  {
   "cell_type": "code",
   "execution_count": 56,
   "metadata": {},
   "outputs": [
    {
     "data": {
      "image/png": "[encoded data removed]",
      "text/plain": [
       "<Figure size 432x288 with 2 Axes>"
      ]
     },
     "metadata": {
      "needs_background": "light"
     },
     "output_type": "display_data"
    }
   ],
   "source": [
    "sns.heatmap(confusion_matrix(y_teste, DT_pred), cmap='OrRd', annot=True, fmt='2.0f')\n",
    "plt.title('Decision Tree')\n",
    "plt.ylabel('P R E V I S T O')\n",
    "plt.xlabel('R E A L')\n",
    "plt.show()"
   ]
  },
  {
   "cell_type": "markdown",
   "metadata": {},
   "source": [
    "#### KNN"
   ]
  },
  {
   "cell_type": "code",
   "execution_count": 57,
   "metadata": {},
   "outputs": [
    {
     "data": {
      "image/png": "[encoded data removed]",
      "text/plain": [
       "<Figure size 432x288 with 2 Axes>"
      ]
     },
     "metadata": {
      "needs_background": "light"
     },
     "output_type": "display_data"
    }
   ],
   "source": [
    "sns.heatmap(confusion_matrix(y_teste, KNN_pred), cmap='OrRd', annot=True, fmt='2.0f')\n",
    "plt.title('KNN')\n",
    "plt.ylabel('P R E V I S T O')\n",
    "plt.xlabel('R E A L')\n",
    "plt.show()"
   ]
  },
  {
   "cell_type": "markdown",
   "metadata": {},
   "source": [
    "#### Randon Forest"
   ]
  },
  {
   "cell_type": "code",
   "execution_count": 58,
   "metadata": {
    "scrolled": true
   },
   "outputs": [
    {
     "data": {
      "image/png": "[encoded data removed]",
      "text/plain": [
       "<Figure size 432x288 with 2 Axes>"
      ]
     },
     "metadata": {
      "needs_background": "light"
     },
     "output_type": "display_data"
    }
   ],
   "source": [
    "sns.heatmap(confusion_matrix(y_teste, RF_pred), cmap='OrRd', annot=True, fmt='2.0f')\n",
    "plt.title('RANDON FOREST')\n",
    "plt.ylabel('P R E V I S T O')\n",
    "plt.xlabel('R E A L')\n",
    "plt.show()"
   ]
  },
  {
   "cell_type": "markdown",
   "metadata": {},
   "source": [
    "### (3) Avaliando os modelos"
   ]
  },
  {
   "cell_type": "code",
   "execution_count": 59,
   "metadata": {
    "scrolled": true
   },
   "outputs": [
    {
     "name": "stdout",
     "output_type": "stream",
     "text": [
      "ACC (DT) :0.78\n",
      "ACC (KNN) :0.84\n",
      "ACC (RF) :0.85\n",
      "Recall (DT) :0.80\n",
      "Recall (KNN) :0.92\n",
      "Recall (RF) :0.85\n",
      "Precision (DT) :0.78\n",
      "Precision (KNN) :0.79\n",
      "Precision (RF) :0.85\n",
      "F1-score (DT) :0.79\n",
      "F1-score (KNN) :0.85\n",
      "F1-score (RF) :0.85\n"
     ]
    }
   ],
   "source": [
    "# Acuracidade\n",
    "print(\"ACC (DT) :%.2f\" %(accuracy_score(y_teste,DT_pred))) \n",
    "print(\"ACC (KNN) :%.2f\" %(accuracy_score(y_teste,KNN_pred))) \n",
    "print(\"ACC (RF) :%.2f\" %(accuracy_score(y_teste,RF_pred))) \n",
    "\n",
    "#Revocação\n",
    "print(\"Recall (DT) :%.2f\" %(recall_score(y_teste,DT_pred))) \n",
    "print(\"Recall (KNN) :%.2f\" %(recall_score(y_teste,KNN_pred))) \n",
    "print(\"Recall (RF) :%.2f\" %(recall_score(y_teste,RF_pred))) \n",
    "\n",
    "#Precisão\n",
    "print(\"Precision (DT) :%.2f\" %(precision_score(y_teste,DT_pred))) \n",
    "print(\"Precision (KNN) :%.2f\" %(precision_score(y_teste,KNN_pred))) \n",
    "print(\"Precision (RF) :%.2f\" %(precision_score(y_teste,RF_pred))) \n",
    "\n",
    "#F1-score\n",
    "print(\"F1-score (DT) :%.2f\" %(f1_score(y_teste,DT_pred))) \n",
    "print(\"F1-score (KNN) :%.2f\" %(f1_score(y_teste,KNN_pred))) \n",
    "print(\"F1-score (RF) :%.2f\" %(f1_score(y_teste,RF_pred))) \n"
   ]
  },
  {
   "cell_type": "markdown",
   "metadata": {},
   "source": [
    "### (4) Curvas ROC e AUC "
   ]
  },
  {
   "cell_type": "markdown",
   "metadata": {},
   "source": [
    "Em aprendizagem de máquina, a medição de desempenho é uma tarefa crucial. As métricas ROC (Receiver Operating Characteristics) e AUC (Area Under The Curve) são as mais utilizadas para medir o desempenho de modelos de classificação."
   ]
  },
  {
   "cell_type": "markdown",
   "metadata": {},
   "source": [
    "ROC é uma curva de probabilidade. Ela é criada traçando a taxa verdadeiro-positivo contra a taxa de falsos-positivos. Ou seja, numero de vezes que o classificador acertou a predição conta o número de vezes que o classificador errou a predição.\n",
    "\n",
    "O AUC representa o grau ou medida de separabilidade. Quanto maior o AUC, melhor o modelo está em prever 0s como 0s e 1s como 1s. AUC resume a curva ROC num único valor, calculando a “área sob a curva”."
   ]
  },
  {
   "cell_type": "markdown",
   "metadata": {},
   "source": [
    "Um modelo excelente tem AUC próximo ao 1, o que significa que tem boa medida de separabilidade. Um modelo pobre tem AUC próximo do 0, o que significa que tem a pior medida de separabilidade, ou seja, está prevendo 0s como 1s e 1s como 0s. E quando a AUC é 0,5, significa que o modelo não tem capacidade de separação de classe."
   ]
  },
  {
   "cell_type": "markdown",
   "metadata": {},
   "source": [
    "O formato da curva contem várias informações, dentre elas, a taxa esperada de falsos positivos e taxa esperada de falsos negativos. \n",
    "* O quanto menor for o eixo x menor a quantidade de falsos positivos e maior verdadeiros negativos. \n",
    "* Quanto maiores os valores no eixo y, maior a quantidade de verdadeiros positivos e menor a quantidade de falsos negativos."
   ]
  },
  {
   "cell_type": "code",
   "execution_count": 60,
   "metadata": {},
   "outputs": [],
   "source": [
    "from sklearn.metrics import roc_curve\n",
    "from sklearn.metrics import roc_auc_score"
   ]
  },
  {
   "cell_type": "code",
   "execution_count": 61,
   "metadata": {},
   "outputs": [
    {
     "name": "stdout",
     "output_type": "stream",
     "text": [
      "Sem habilidade: ROC AUC=0.500\n",
      "Decision Tree: ROC AUC=0.784\n",
      "KNN: ROC AUC=0.898\n",
      "Randon Forest: ROC AUC=0.926\n"
     ]
    },
    {
     "data": {
      "image/png": "[encoded data removed]",
      "text/plain": [
       "<Figure size 432x288 with 1 Axes>"
      ]
     },
     "metadata": {
      "needs_background": "light"
     },
     "output_type": "display_data"
    }
   ],
   "source": [
    "ns_probs = [0 for _ in range(len(y_teste))] # gerar lista de zeros (sem habilidade)\n",
    "ns_auc = roc_auc_score(y_teste, ns_probs)\n",
    "\n",
    "#Decision Tree\n",
    "DT_probs = clf_DT.predict_proba(X_teste)\n",
    "DT_probs = DT_probs[:,1]\n",
    "DT_auc = roc_auc_score(y_teste, DT_probs)\n",
    "\n",
    "#KNN\n",
    "KNN_probs = clf_KNN.predict_proba(X_teste)\n",
    "KNN_probs = KNN_probs[:,1]\n",
    "KNN_auc = roc_auc_score(y_teste, KNN_probs)\n",
    "\n",
    "#Randon Forest\n",
    "RF_probs = clf_RF.predict_proba(X_teste)\n",
    "RF_probs = RF_probs[:,1]\n",
    "RF_auc = roc_auc_score(y_teste, RF_probs)\n",
    "\n",
    "print('Sem habilidade: ROC AUC=%.3f' %(ns_auc))\n",
    "print('Decision Tree: ROC AUC=%.3f' %(DT_auc))\n",
    "print('KNN: ROC AUC=%.3f' %(KNN_auc))\n",
    "print('Randon Forest: ROC AUC=%.3f' %(RF_auc))\n",
    "\n",
    "# calcular a curva ROC\n",
    "ns_tfp, ns_tvp, _ = roc_curve(y_teste, ns_probs)\n",
    "DT_tfp, DT_tvp, _ = roc_curve(y_teste, DT_probs)\n",
    "KNN_tfp, KNN_tvp, _ = roc_curve(y_teste, KNN_probs)\n",
    "RF_tfp, RF_tvp, _ = roc_curve(y_teste, RF_probs)\n",
    "\n",
    "plt.plot(ns_tfp, ns_tvp, linestyle='--')\n",
    "plt.plot(KNN_tfp, KNN_tvp, marker='x', label='KNN')\n",
    "plt.plot(DT_tfp, DT_tvp, marker='.', label='Decision Tree')\n",
    "plt.plot(RF_tfp, RF_tvp, marker='+', label='Randon Forest')\n",
    "\n",
    "\n",
    "plt.xlabel('Taxa de Falsos Positivos')\n",
    "plt.ylabel('Taxa de Verdadeiros Positivos')\n",
    "plt.legend(loc=4)\n",
    "\n",
    "plt.show()"
   ]
  },
  {
   "cell_type": "code",
   "execution_count": null,
   "metadata": {},
   "outputs": [],
   "source": []
  }
 ],
 "metadata": {
  "kernelspec": {
   "display_name": "Python 3",
   "language": "python",
   "name": "python3"
  },
  "language_info": {
   "codemirror_mode": {
    "name": "ipython",
    "version": 3
   },
   "file_extension": ".py",
   "mimetype": "text/x-python",
   "name": "python",
   "nbconvert_exporter": "python",
   "pygments_lexer": "ipython3",
   "version": "3.6.9"
  }
 },
 "nbformat": 4,
 "nbformat_minor": 2
}
