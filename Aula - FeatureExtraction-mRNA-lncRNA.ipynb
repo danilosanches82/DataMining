{
 "cells": [
  {
   "cell_type": "markdown",
   "metadata": {},
   "source": [
    "## Estudo de Caso mRNA e lncRNA \n",
    "\n",
    "### Extração de características com k-mer \n",
    "- Indormações sobre o K-mer: http://rosalind.info/problems/kmer/\n",
    "- Código Python: https://github.com/Bonidia/kmerSchemaPython\n",
    "\n",
    "- Download das bases mRNA.fasta e lncRNA.fasta -   https://github.com/Bonidia/FeatureExtraction_BiologicalSequences/tree/master/examples\n",
    "\n",
    "\n",
    "- Exemplo de uso: Extração com findKmers.py: <br>\n",
    "    * (i) python3 findKmers.py -i lncRNA.fasta -o lncRNA.csv -l 1 -k 3 \n",
    "    * (ii)python3 findKmers.py -i mRNA.fasta -o mRNA.csv -l 0 -k 3\n"
   ]
  },
  {
   "cell_type": "markdown",
   "metadata": {},
   "source": [
    "#### Divisão da base em treino e teste"
   ]
  },
  {
   "cell_type": "code",
   "execution_count": 1,
   "metadata": {},
   "outputs": [],
   "source": [
    "#Base lncRNA e mRNA\n",
    "import os \n",
    "import pandas\n",
    "import matplotlib.pyplot as plt\n",
    "from sklearn.tree import DecisionTreeClassifier\n",
    "from sklearn import tree\n",
    "from sklearn.preprocessing import LabelEncoder\n",
    "from sklearn.model_selection import train_test_split\n",
    "from sklearn.metrics import (recall_score,\n",
    "                             accuracy_score,\n",
    "                             precision_score,\n",
    "                             f1_score)\n",
    "\n",
    "def split(finput, test_rate):\n",
    "    dataset = pandas.read_csv(finput)\n",
    "    X = dataset.iloc[:, :-1]\n",
    "    y = dataset.iloc[:, -1]\n",
    "    \n",
    "    X_train, X_test, y_train, y_test = train_test_split(X, y, test_size = test_rate)\n",
    "    train = pandas.concat([X_train, y_train], axis=1)\n",
    "    test = pandas.concat([X_test, y_test], axis=1)\n",
    "    \n",
    "    trainData = os.path.splitext(finput)[0]+\"_train\"+os.path.splitext(finput)[1]\n",
    "    testData = os.path.splitext(finput)[0]+\"_test\"+os.path.splitext(finput)[1]\n",
    "    train.to_csv(trainData, index=False)\n",
    "    test.to_csv(testData, index=False)    \n",
    "    return                             \n",
    "\n",
    "\n",
    "# Aplica a divisão treino e teste nas bases mRNA e lncRNA\n",
    "\n",
    "split('mRNA.csv',0.3)\n",
    "split('lncRNA.csv',0.3)\n",
    "\n",
    "# carrega a base de dados treino lncRNA e mRNA\n",
    "lncRNA_data = pandas.read_csv('bases/lncRNA_train.csv')\n",
    "mRNA_data = pandas.read_csv('bases/mRNA_train.csv')\n",
    "dadosTreino = pandas.concat([lncRNA_data,mRNA_data])\n",
    "\n",
    "#Divide a base entre os previsores e classe\n",
    "colunas = dadosTreino.columns.drop('class')\n",
    "\n",
    "# Gera os previsores e classe (X e y)\n",
    "X = dadosTreino[colunas].values\n",
    "y = dadosTreino['class']\n",
    "\n",
    "## Gera os dados de teste\n",
    "# carrega a base de dados teste lncRNA e mRNA\n",
    "lncRNA_test = pandas.read_csv('bases/lncRNA_test.csv')\n",
    "mRNA_test = pandas.read_csv('bases/mRNA_test.csv')\n",
    "dados = pandas.concat([lncRNA_test,mRNA_test])\n",
    "\n",
    "dadosTeste = dados.columns.drop('class')\n",
    "X_teste = dados[dadosTeste].values\n",
    "y_teste = dados['class']"
   ]
  },
  {
   "cell_type": "markdown",
   "metadata": {},
   "source": [
    "#### Atributos (k-mers) utilizados "
   ]
  },
  {
   "cell_type": "code",
   "execution_count": 2,
   "metadata": {},
   "outputs": [
    {
     "name": "stdout",
     "output_type": "stream",
     "text": [
      "Columns size >>> 84\n",
      "Index(['A', 'C', 'G', 'T', 'AA', 'AC', 'AG', 'AT', 'CA', 'CC', 'CG', 'CT',\n",
      "       'GA', 'GC', 'GG', 'GT', 'TA', 'TC', 'TG', 'TT', 'AAA', 'AAC', 'AAG',\n",
      "       'AAT', 'ACA', 'ACC', 'ACG', 'ACT', 'AGA', 'AGC', 'AGG', 'AGT', 'ATA',\n",
      "       'ATC', 'ATG', 'ATT', 'CAA', 'CAC', 'CAG', 'CAT', 'CCA', 'CCC', 'CCG',\n",
      "       'CCT', 'CGA', 'CGC', 'CGG', 'CGT', 'CTA', 'CTC', 'CTG', 'CTT', 'GAA',\n",
      "       'GAC', 'GAG', 'GAT', 'GCA', 'GCC', 'GCG', 'GCT', 'GGA', 'GGC', 'GGG',\n",
      "       'GGT', 'GTA', 'GTC', 'GTG', 'GTT', 'TAA', 'TAC', 'TAG', 'TAT', 'TCA',\n",
      "       'TCC', 'TCG', 'TCT', 'TGA', 'TGC', 'TGG', 'TGT', 'TTA', 'TTC', 'TTG',\n",
      "       'TTT', 'class'],\n",
      "      dtype='object')\n"
     ]
    }
   ],
   "source": [
    "# Exibe a quantidade de atributos\n",
    "print(\"Columns size >>> %d\"%len(colunas))\n",
    "\n",
    "# Exibe o nome dos atributos\n",
    "print(dadosTreino.columns)"
   ]
  },
  {
   "cell_type": "code",
   "execution_count": 3,
   "metadata": {},
   "outputs": [
    {
     "name": "stdout",
     "output_type": "stream",
     "text": [
      "(3556, 84) (3556,) (1524, 84) (1524,)\n"
     ]
    }
   ],
   "source": [
    "print(X.shape, y.shape, X_teste.shape, y_teste.shape)"
   ]
  },
  {
   "cell_type": "markdown",
   "metadata": {},
   "source": [
    "#### Aplica o modelo de predição com Decision Tree"
   ]
  },
  {
   "cell_type": "code",
   "execution_count": 4,
   "metadata": {},
   "outputs": [
    {
     "name": "stdout",
     "output_type": "stream",
     "text": [
      "86.81\n"
     ]
    }
   ],
   "source": [
    "# instancia um DecisionTreeClassifier\n",
    "clf = DecisionTreeClassifier()\n",
    "# treina o knn\n",
    "clf.fit(X, y)\n",
    "\n",
    "y_pred = clf.predict(X_teste)\n",
    "#print(y_pred)\n",
    "\n",
    " # gerar score baseado na acurácia\n",
    "acuracidade = round(accuracy_score(y_teste,y_pred)*100,2)\n",
    "print(acuracidade)"
   ]
  },
  {
   "cell_type": "markdown",
   "metadata": {},
   "source": [
    "## Seleção de características com Wrapper e Recursive feature elimination\n",
    "#### Detalhes: https://scikit-learn.org/stable/modules/feature_selection.html#feature-selection"
   ]
  },
  {
   "cell_type": "code",
   "execution_count": null,
   "metadata": {},
   "outputs": [],
   "source": [
    "print(X.shape)"
   ]
  },
  {
   "cell_type": "code",
   "execution_count": 5,
   "metadata": {},
   "outputs": [
    {
     "name": "stdout",
     "output_type": "stream",
     "text": [
      "[43  3  1 28  1 38  1  7 27 22 32  9 35 17 19 11 26 21 23  1 41  1  1  1\n",
      "  1  1 12 30  1  1  5  1  1  4  1 10  1 15  1  1 14 40 36 34 25  1  1 39\n",
      "  1  1  1 33 16  1 29  8 24 18  1 31  1  1  1  1  1  1 20  1  1  1  1  1\n",
      "  1  1 13  2 42  6  1  1  1  1 37  1]\n",
      "[ 2  4  6 19 21 22 23 24 25 28 29 31 32 34 36 38 39 45 46 48 49 50 53 58\n",
      " 60 61 62 63 64 65 67 68 69 70 71 72 73 78 79 80 81 83]\n",
      "86.68\n"
     ]
    }
   ],
   "source": [
    "from sklearn.feature_selection import RFE\n",
    "\n",
    "# instancia um DecisionTreeClassifier\n",
    "clf = DecisionTreeClassifier()\n",
    "selector = RFE(clf, step=1)\n",
    "selector = selector.fit(X, y)\n",
    "\n",
    "#Armazena a nova dimensão do vetor de características\n",
    "features = selector.fit_transform(X,y)\n",
    "\n",
    "# instancia um DecisionTreeClassifier\n",
    "y_pred = selector.predict(X_teste)\n",
    "\n",
    "print(selector.ranking_)\n",
    "print(selector.get_support(indices=True))\n",
    "\n",
    " # gerar score baseado na acurácia\n",
    "acuracidade = round(accuracy_score(y_teste,y_pred)*100,2)\n",
    "print(acuracidade)\n",
    "\n"
   ]
  },
  {
   "cell_type": "code",
   "execution_count": 6,
   "metadata": {},
   "outputs": [
    {
     "name": "stdout",
     "output_type": "stream",
     "text": [
      "(3556, 42)\n"
     ]
    }
   ],
   "source": [
    "print(features.shape)"
   ]
  },
  {
   "cell_type": "markdown",
   "metadata": {},
   "source": [
    "### Obtendo o nome dos 42 atributos"
   ]
  },
  {
   "cell_type": "code",
   "execution_count": 7,
   "metadata": {},
   "outputs": [
    {
     "name": "stdout",
     "output_type": "stream",
     "text": [
      "Index(['G', 'AA', 'AG', 'TT', 'AAC', 'AAG', 'AAT', 'ACA', 'ACC', 'AGA', 'AGC',\n",
      "       'AGT', 'ATA', 'ATG', 'CAA', 'CAG', 'CAT', 'CGC', 'CGG', 'CTA', 'CTC',\n",
      "       'CTG', 'GAC', 'GCG', 'GGA', 'GGC', 'GGG', 'GGT', 'GTA', 'GTC', 'GTT',\n",
      "       'TAA', 'TAC', 'TAG', 'TAT', 'TCA', 'TCC', 'TGG', 'TGT', 'TTA', 'TTC',\n",
      "       'TTT'],\n",
      "      dtype='object')\n"
     ]
    }
   ],
   "source": [
    "temp = pandas.Series(selector.support_,index = colunas)\n",
    "wrapperApproach = temp[temp==True].index\n",
    "print(wrapperApproach)"
   ]
  },
  {
   "cell_type": "code",
   "execution_count": 8,
   "metadata": {},
   "outputs": [],
   "source": [
    "# Deixa no formato list\n",
    "featuresList = wrapperApproach.tolist()"
   ]
  },
  {
   "cell_type": "code",
   "execution_count": 9,
   "metadata": {
    "scrolled": true
   },
   "outputs": [
    {
     "name": "stdout",
     "output_type": "stream",
     "text": [
      "['G', 'AA', 'AG', 'TT', 'AAC', 'AAG', 'AAT', 'ACA', 'ACC', 'AGA', 'AGC', 'AGT', 'ATA', 'ATG', 'CAA', 'CAG', 'CAT', 'CGC', 'CGG', 'CTA', 'CTC', 'CTG', 'GAC', 'GCG', 'GGA', 'GGC', 'GGG', 'GGT', 'GTA', 'GTC', 'GTT', 'TAA', 'TAC', 'TAG', 'TAT', 'TCA', 'TCC', 'TGG', 'TGT', 'TTA', 'TTC', 'TTT']\n"
     ]
    }
   ],
   "source": [
    "print(featuresList)"
   ]
  },
  {
   "cell_type": "markdown",
   "metadata": {},
   "source": [
    "## Seleção de atributos abordagem filtro"
   ]
  },
  {
   "cell_type": "code",
   "execution_count": 10,
   "metadata": {},
   "outputs": [
    {
     "name": "stdout",
     "output_type": "stream",
     "text": [
      "[ 2  3  6 12 13 14 16 19 20 21 23 29 30 31 32 33 35 37 38 39 41 44 45 46\n",
      " 50 54 55 58 59 60 61 62 63 64 66 68 70 71 72 78 80 83]\n"
     ]
    }
   ],
   "source": [
    "#Feature selection with Mutual Information \n",
    "import numpy\n",
    "from pandas.plotting import scatter_matrix\n",
    "from sklearn.feature_selection import chi2\n",
    "from sklearn.feature_selection import SelectKBest\n",
    "from sklearn.feature_selection import mutual_info_classif\n",
    "from sklearn.feature_selection import f_classif\n",
    "\n",
    "#selector = SelectKBest(score_func=chi2, k=42)\n",
    "selector = SelectKBest(score_func=mutual_info_classif, k=42)\n",
    "#selector = SelectKBest(score_func=f_classif, k=42)\n",
    "\n",
    "selector.fit(X, y)\n",
    "# Get columns to keep and create new dataframe with those only\n",
    "cols = selector.get_support(indices=True)\n",
    "print(cols)"
   ]
  },
  {
   "cell_type": "markdown",
   "metadata": {},
   "source": [
    "### Nome dos atributos"
   ]
  },
  {
   "cell_type": "code",
   "execution_count": 11,
   "metadata": {
    "scrolled": true
   },
   "outputs": [
    {
     "name": "stdout",
     "output_type": "stream",
     "text": [
      "Index(['G', 'T', 'AG', 'GA', 'GC', 'GG', 'TA', 'TT', 'AAA', 'AAC', 'AAT',\n",
      "       'AGC', 'AGG', 'AGT', 'ATA', 'ATC', 'ATT', 'CAC', 'CAG', 'CAT', 'CCC',\n",
      "       'CGA', 'CGC', 'CGG', 'CTG', 'GAG', 'GAT', 'GCG', 'GCT', 'GGA', 'GGC',\n",
      "       'GGG', 'GGT', 'GTA', 'GTG', 'TAA', 'TAG', 'TAT', 'TCA', 'TGG', 'TTA',\n",
      "       'TTT'],\n",
      "      dtype='object')\n"
     ]
    }
   ],
   "source": [
    "temp = pandas.Series(selector.get_support(indices=False),index = colunas)\n",
    "filterApproach = temp[temp==True].index\n",
    "print(filterApproach)"
   ]
  },
  {
   "cell_type": "code",
   "execution_count": 12,
   "metadata": {},
   "outputs": [],
   "source": [
    "# Deixa no formato list\n",
    "featuresList = filterApproach.tolist()"
   ]
  },
  {
   "cell_type": "code",
   "execution_count": 13,
   "metadata": {},
   "outputs": [
    {
     "name": "stdout",
     "output_type": "stream",
     "text": [
      "['G', 'T', 'AG', 'GA', 'GC', 'GG', 'TA', 'TT', 'AAA', 'AAC', 'AAT', 'AGC', 'AGG', 'AGT', 'ATA', 'ATC', 'ATT', 'CAC', 'CAG', 'CAT', 'CCC', 'CGA', 'CGC', 'CGG', 'CTG', 'GAG', 'GAT', 'GCG', 'GCT', 'GGA', 'GGC', 'GGG', 'GGT', 'GTA', 'GTG', 'TAA', 'TAG', 'TAT', 'TCA', 'TGG', 'TTA', 'TTT']\n"
     ]
    }
   ],
   "source": [
    "print(featuresList)"
   ]
  },
  {
   "cell_type": "markdown",
   "metadata": {},
   "source": [
    "### Avaliação entre as features (Filter x Wrapper)"
   ]
  },
  {
   "cell_type": "code",
   "execution_count": 14,
   "metadata": {},
   "outputs": [
    {
     "name": "stdout",
     "output_type": "stream",
     "text": [
      "k-mers diferentes:\n",
      "['TAC', 'GAC', 'TCC', 'AA', 'ACA', 'ATG', 'TTC', 'AAG', 'ACC', 'GTC', 'CAA', 'GTT', 'TGT', 'CTC', 'AGA', 'CTA']\n",
      "k-mers iguais:\n",
      "['ATA', 'GCG', 'AAC', 'GGA', 'TCA', 'TAA', 'GGG', 'CGC', 'CGG', 'G', 'GGC', 'TTT', 'GTA', 'TGG', 'AAT', 'CAG', 'CAT', 'TAT', 'AG', 'AGC', 'GGT', 'CTG', 'TTA', 'TT', 'TAG', 'AGT']\n"
     ]
    }
   ],
   "source": [
    "diff = list(set(wrapperApproach) - set(filterApproach))\n",
    "equal = list(set(wrapperApproach).intersection(filterApproach))\n",
    "print(\"k-mers diferentes:\")\n",
    "print(diff)\n",
    "print(\"k-mers iguais:\")\n",
    "print(equal)"
   ]
  },
  {
   "cell_type": "code",
   "execution_count": null,
   "metadata": {},
   "outputs": [],
   "source": []
  },
  {
   "cell_type": "markdown",
   "metadata": {},
   "source": [
    "# Estudo de caso com o framework MathFeature\n",
    "- https://bonidia.github.io/MathFeature/\n",
    "\n",
    "Utilização por linha de comando:\n",
    "- git clone https://github.com/Bonidia/MathFeature.git MathFeature\n",
    "- cd MathFeature\n",
    "- pip3 install -r requirements.txt\n",
    "- apt-get -y install python3-igraph\n",
    "\n",
    "## Baixando sequências de repositórios públicos\n",
    "- GENCODE: https://www.gencodegenes.org/\n",
    "- PHYTOZOME: https://phytozome-next.jgi.doe.gov/\n",
    "- GREENC: http://greenc.sequentiabiotech.com/wiki/Main_Page"
   ]
  },
  {
   "cell_type": "markdown",
   "metadata": {},
   "source": [
    "## Etapas de pré-processamento\n",
    "\n",
    "- Contagem da quantidade de sequências;\n",
    "- Amostragem;\n",
    "- Remoção de redundância;\n",
    "- Eliminação de ruídos.\n",
    "- Extração de características;\n",
    "- Composição da base de dados"
   ]
  }
 ],
 "metadata": {
  "kernelspec": {
   "display_name": "Python 3",
   "language": "python",
   "name": "python3"
  },
  "language_info": {
   "codemirror_mode": {
    "name": "ipython",
    "version": 3
   },
   "file_extension": ".py",
   "mimetype": "text/x-python",
   "name": "python",
   "nbconvert_exporter": "python",
   "pygments_lexer": "ipython3",
   "version": "3.6.9"
  }
 },
 "nbformat": 4,
 "nbformat_minor": 2
}
