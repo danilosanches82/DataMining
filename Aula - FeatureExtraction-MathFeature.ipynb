{
 "cells": [
  {
   "cell_type": "markdown",
   "metadata": {},
   "source": [
    "# Estudo de caso com o framework MathFeature\n",
    "- https://bonidia.github.io/MathFeature/\n",
    "\n",
    "Utilização por linha de comando:\n",
    "- git clone https://github.com/Bonidia/MathFeature.git MathFeature\n",
    "- cd MathFeature\n",
    "- pip3 install -r requirements.txt\n",
    "- apt-get -y install python3-igraph\n",
    "\n",
    "## Baixando sequências de repositórios públicos\n",
    "- GENCODE: https://www.gencodegenes.org/\n",
    "- PHYTOZOME: https://phytozome-next.jgi.doe.gov/\n",
    "- GREENC: http://greenc.sequentiabiotech.com/wiki/Main_Page"
   ]
  },
  {
   "cell_type": "markdown",
   "metadata": {},
   "source": [
    "## Etapas de pré-processamento\n",
    "\n",
    "- Contagem da quantidade de sequências;\n",
    "- Amostragem;\n",
    "- Remoção de redundância;\n",
    "- Eliminação de ruídos.\n",
    "- Extração de características;\n",
    "- Composição da base de dados"
   ]
  },
  {
   "cell_type": "markdown",
   "metadata": {},
   "source": [
    "## Modelo: Arabidopsis thaliana\n",
    "Base (lncRNA) GREENC: http://greenc.sequentiabiotech.com/wiki/Species:Arabidopsis_thaliana\n",
    "\n",
    "Base (mRNA) Phytozome: https://data.jgi.doe.gov/refine-download/phytozome?genome_id=167"
   ]
  },
  {
   "cell_type": "markdown",
   "metadata": {},
   "source": [
    "#### Divisão da base em treino e teste"
   ]
  },
  {
   "cell_type": "code",
   "execution_count": 1,
   "metadata": {},
   "outputs": [],
   "source": [
    "#Base lncRNA e mRNA\n",
    "import os \n",
    "import pandas\n",
    "import matplotlib.pyplot as plt\n",
    "from sklearn.tree import DecisionTreeClassifier\n",
    "from sklearn import tree\n",
    "from sklearn.preprocessing import LabelEncoder\n",
    "from sklearn.model_selection import train_test_split\n",
    "from sklearn.metrics import (recall_score,\n",
    "                             accuracy_score,\n",
    "                             precision_score,\n",
    "                             f1_score)\n",
    "\n",
    "def split(finput, test_rate):\n",
    "    dataset = pandas.read_csv(finput)\n",
    "    X = dataset.iloc[:, :-1]\n",
    "    y = dataset.iloc[:, -1]\n",
    "    \n",
    "    X_train, X_test, y_train, y_test = train_test_split(X, y, test_size = test_rate)\n",
    "    train = pandas.concat([X_train, y_train], axis=1)\n",
    "    test = pandas.concat([X_test, y_test], axis=1)\n",
    "    \n",
    "    trainData = os.path.splitext(finput)[0]+\"_train\"+os.path.splitext(finput)[1]\n",
    "    testData = os.path.splitext(finput)[0]+\"_test\"+os.path.splitext(finput)[1]\n",
    "    train.to_csv(trainData, index=False)\n",
    "    test.to_csv(testData, index=False)    \n",
    "    return                             \n",
    "\n",
    "\n",
    "# Aplica a divisão treino e teste nas bases mRNA e lncRNA\n",
    "\n",
    "split('bases/mRNA.csv',0.3)\n",
    "split('bases/lncRNA.csv',0.3)\n",
    "\n",
    "# carrega a base de dados treino lncRNA e mRNA\n",
    "lncRNA_data = pandas.read_csv('bases/lncRNA_train.csv')\n",
    "mRNA_data = pandas.read_csv('bases/mRNA_train.csv')\n",
    "dadosTreino = pandas.concat([lncRNA_data,mRNA_data])"
   ]
  },
  {
   "cell_type": "code",
   "execution_count": 2,
   "metadata": {},
   "outputs": [
    {
     "data": {
      "text/plain": [
       "Index(['nameseq', 'maximum_ORF_length', 'minimum_ORF_length', 'std_ORF_length',\n",
       "       'average_ORF_length', 'cv_ORF_length', 'maximum_GC_content_ORF',\n",
       "       'minimum_GC_content_ORF', 'std_GC_content_ORF',\n",
       "       'average_GC_content_ORF', 'cv_GC_content_ORF', 'fickett_score-ORF',\n",
       "       'fickett_score-full-sequence', 'A', 'C', 'G', 'T', 'AA', 'AC', 'AG',\n",
       "       'AT', 'CA', 'CC', 'CG', 'CT', 'GA', 'GC', 'GG', 'GT', 'TA', 'TC', 'TG',\n",
       "       'TT', 'AAA', 'AAC', 'AAG', 'AAT', 'ACA', 'ACC', 'ACG', 'ACT', 'AGA',\n",
       "       'AGC', 'AGG', 'AGT', 'ATA', 'ATC', 'ATG', 'ATT', 'CAA', 'CAC', 'CAG',\n",
       "       'CAT', 'CCA', 'CCC', 'CCG', 'CCT', 'CGA', 'CGC', 'CGG', 'CGT', 'CTA',\n",
       "       'CTC', 'CTG', 'CTT', 'GAA', 'GAC', 'GAG', 'GAT', 'GCA', 'GCC', 'GCG',\n",
       "       'GCT', 'GGA', 'GGC', 'GGG', 'GGT', 'GTA', 'GTC', 'GTG', 'GTT', 'TAA',\n",
       "       'TAC', 'TAG', 'TAT', 'TCA', 'TCC', 'TCG', 'TCT', 'TGA', 'TGC', 'TGG',\n",
       "       'TGT', 'TTA', 'TTC', 'TTG', 'TTT', 'label'],\n",
       "      dtype='object')"
      ]
     },
     "execution_count": 2,
     "metadata": {},
     "output_type": "execute_result"
    }
   ],
   "source": [
    "dadosTreino.columns"
   ]
  },
  {
   "cell_type": "code",
   "execution_count": 3,
   "metadata": {},
   "outputs": [
    {
     "data": {
      "text/html": [
       "<div>\n",
       "<style scoped>\n",
       "    .dataframe tbody tr th:only-of-type {\n",
       "        vertical-align: middle;\n",
       "    }\n",
       "\n",
       "    .dataframe tbody tr th {\n",
       "        vertical-align: top;\n",
       "    }\n",
       "\n",
       "    .dataframe thead th {\n",
       "        text-align: right;\n",
       "    }\n",
       "</style>\n",
       "<table border=\"1\" class=\"dataframe\">\n",
       "  <thead>\n",
       "    <tr style=\"text-align: right;\">\n",
       "      <th></th>\n",
       "      <th>nameseq</th>\n",
       "      <th>maximum_ORF_length</th>\n",
       "      <th>minimum_ORF_length</th>\n",
       "      <th>std_ORF_length</th>\n",
       "      <th>average_ORF_length</th>\n",
       "      <th>cv_ORF_length</th>\n",
       "      <th>maximum_GC_content_ORF</th>\n",
       "      <th>minimum_GC_content_ORF</th>\n",
       "      <th>std_GC_content_ORF</th>\n",
       "      <th>average_GC_content_ORF</th>\n",
       "      <th>...</th>\n",
       "      <th>TCT</th>\n",
       "      <th>TGA</th>\n",
       "      <th>TGC</th>\n",
       "      <th>TGG</th>\n",
       "      <th>TGT</th>\n",
       "      <th>TTA</th>\n",
       "      <th>TTC</th>\n",
       "      <th>TTG</th>\n",
       "      <th>TTT</th>\n",
       "      <th>label</th>\n",
       "    </tr>\n",
       "  </thead>\n",
       "  <tbody>\n",
       "    <tr>\n",
       "      <th>0</th>\n",
       "      <td>lcl|Athaliana_AT1G17255.1</td>\n",
       "      <td>192</td>\n",
       "      <td>6</td>\n",
       "      <td>53.220612</td>\n",
       "      <td>60.937500</td>\n",
       "      <td>0.873364</td>\n",
       "      <td>51.851852</td>\n",
       "      <td>26.666667</td>\n",
       "      <td>5.170413</td>\n",
       "      <td>41.750088</td>\n",
       "      <td>...</td>\n",
       "      <td>0.020847</td>\n",
       "      <td>0.027036</td>\n",
       "      <td>0.013355</td>\n",
       "      <td>0.017915</td>\n",
       "      <td>0.019218</td>\n",
       "      <td>0.013029</td>\n",
       "      <td>0.021498</td>\n",
       "      <td>0.029642</td>\n",
       "      <td>0.024430</td>\n",
       "      <td>lncRNA</td>\n",
       "    </tr>\n",
       "    <tr>\n",
       "      <th>1</th>\n",
       "      <td>lcl|Athaliana_AT3G29572.1</td>\n",
       "      <td>186</td>\n",
       "      <td>6</td>\n",
       "      <td>44.754750</td>\n",
       "      <td>50.888889</td>\n",
       "      <td>0.879460</td>\n",
       "      <td>48.148148</td>\n",
       "      <td>16.666667</td>\n",
       "      <td>8.910446</td>\n",
       "      <td>31.011256</td>\n",
       "      <td>...</td>\n",
       "      <td>0.014169</td>\n",
       "      <td>0.028337</td>\n",
       "      <td>0.011931</td>\n",
       "      <td>0.014169</td>\n",
       "      <td>0.021626</td>\n",
       "      <td>0.035048</td>\n",
       "      <td>0.014169</td>\n",
       "      <td>0.030574</td>\n",
       "      <td>0.062640</td>\n",
       "      <td>lncRNA</td>\n",
       "    </tr>\n",
       "    <tr>\n",
       "      <th>2</th>\n",
       "      <td>lcl|Athaliana_AT4G13615.1</td>\n",
       "      <td>216</td>\n",
       "      <td>15</td>\n",
       "      <td>75.367433</td>\n",
       "      <td>77.500000</td>\n",
       "      <td>0.972483</td>\n",
       "      <td>54.166667</td>\n",
       "      <td>29.629630</td>\n",
       "      <td>8.359375</td>\n",
       "      <td>40.980431</td>\n",
       "      <td>...</td>\n",
       "      <td>0.016484</td>\n",
       "      <td>0.041209</td>\n",
       "      <td>0.027473</td>\n",
       "      <td>0.030220</td>\n",
       "      <td>0.021978</td>\n",
       "      <td>0.010989</td>\n",
       "      <td>0.008242</td>\n",
       "      <td>0.038462</td>\n",
       "      <td>0.035714</td>\n",
       "      <td>lncRNA</td>\n",
       "    </tr>\n",
       "    <tr>\n",
       "      <th>3</th>\n",
       "      <td>lcl|Athaliana_AT5G28824.1</td>\n",
       "      <td>141</td>\n",
       "      <td>12</td>\n",
       "      <td>49.752990</td>\n",
       "      <td>64.200000</td>\n",
       "      <td>0.774969</td>\n",
       "      <td>41.666667</td>\n",
       "      <td>16.666667</td>\n",
       "      <td>10.413666</td>\n",
       "      <td>29.000000</td>\n",
       "      <td>...</td>\n",
       "      <td>0.040222</td>\n",
       "      <td>0.019417</td>\n",
       "      <td>0.005548</td>\n",
       "      <td>0.006935</td>\n",
       "      <td>0.015257</td>\n",
       "      <td>0.015257</td>\n",
       "      <td>0.042996</td>\n",
       "      <td>0.015257</td>\n",
       "      <td>0.040222</td>\n",
       "      <td>lncRNA</td>\n",
       "    </tr>\n",
       "    <tr>\n",
       "      <th>4</th>\n",
       "      <td>lcl|Athaliana_AT4G04296.1</td>\n",
       "      <td>165</td>\n",
       "      <td>9</td>\n",
       "      <td>53.249104</td>\n",
       "      <td>73.058824</td>\n",
       "      <td>0.728852</td>\n",
       "      <td>41.666667</td>\n",
       "      <td>22.222222</td>\n",
       "      <td>5.147737</td>\n",
       "      <td>32.899476</td>\n",
       "      <td>...</td>\n",
       "      <td>0.013475</td>\n",
       "      <td>0.012057</td>\n",
       "      <td>0.012057</td>\n",
       "      <td>0.019858</td>\n",
       "      <td>0.012766</td>\n",
       "      <td>0.021277</td>\n",
       "      <td>0.015603</td>\n",
       "      <td>0.026241</td>\n",
       "      <td>0.031915</td>\n",
       "      <td>lncRNA</td>\n",
       "    </tr>\n",
       "    <tr>\n",
       "      <th>...</th>\n",
       "      <td>...</td>\n",
       "      <td>...</td>\n",
       "      <td>...</td>\n",
       "      <td>...</td>\n",
       "      <td>...</td>\n",
       "      <td>...</td>\n",
       "      <td>...</td>\n",
       "      <td>...</td>\n",
       "      <td>...</td>\n",
       "      <td>...</td>\n",
       "      <td>...</td>\n",
       "      <td>...</td>\n",
       "      <td>...</td>\n",
       "      <td>...</td>\n",
       "      <td>...</td>\n",
       "      <td>...</td>\n",
       "      <td>...</td>\n",
       "      <td>...</td>\n",
       "      <td>...</td>\n",
       "      <td>...</td>\n",
       "      <td>...</td>\n",
       "    </tr>\n",
       "    <tr>\n",
       "      <th>2100</th>\n",
       "      <td>AT1G01770.1|PACid:19649858</td>\n",
       "      <td>1899</td>\n",
       "      <td>6</td>\n",
       "      <td>380.178930</td>\n",
       "      <td>123.260870</td>\n",
       "      <td>3.084344</td>\n",
       "      <td>59.259259</td>\n",
       "      <td>27.777778</td>\n",
       "      <td>7.354491</td>\n",
       "      <td>41.494641</td>\n",
       "      <td>...</td>\n",
       "      <td>0.026885</td>\n",
       "      <td>0.020032</td>\n",
       "      <td>0.016869</td>\n",
       "      <td>0.034265</td>\n",
       "      <td>0.021086</td>\n",
       "      <td>0.014760</td>\n",
       "      <td>0.021086</td>\n",
       "      <td>0.023195</td>\n",
       "      <td>0.014760</td>\n",
       "      <td>mRNA</td>\n",
       "    </tr>\n",
       "    <tr>\n",
       "      <th>2101</th>\n",
       "      <td>AT4G00820.1|PACid:19645036</td>\n",
       "      <td>1605</td>\n",
       "      <td>6</td>\n",
       "      <td>486.812079</td>\n",
       "      <td>238.000000</td>\n",
       "      <td>2.045429</td>\n",
       "      <td>49.717514</td>\n",
       "      <td>33.333333</td>\n",
       "      <td>4.415460</td>\n",
       "      <td>42.634981</td>\n",
       "      <td>...</td>\n",
       "      <td>0.020586</td>\n",
       "      <td>0.013100</td>\n",
       "      <td>0.011853</td>\n",
       "      <td>0.015596</td>\n",
       "      <td>0.008734</td>\n",
       "      <td>0.014348</td>\n",
       "      <td>0.017467</td>\n",
       "      <td>0.012477</td>\n",
       "      <td>0.010605</td>\n",
       "      <td>mRNA</td>\n",
       "    </tr>\n",
       "    <tr>\n",
       "      <th>2102</th>\n",
       "      <td>AT3G45020.1|PACid:19662337</td>\n",
       "      <td>402</td>\n",
       "      <td>15</td>\n",
       "      <td>180.349660</td>\n",
       "      <td>147.000000</td>\n",
       "      <td>1.226868</td>\n",
       "      <td>58.333333</td>\n",
       "      <td>33.333333</td>\n",
       "      <td>10.241555</td>\n",
       "      <td>45.232172</td>\n",
       "      <td>...</td>\n",
       "      <td>0.012500</td>\n",
       "      <td>0.040000</td>\n",
       "      <td>0.007500</td>\n",
       "      <td>0.015000</td>\n",
       "      <td>0.015000</td>\n",
       "      <td>0.017500</td>\n",
       "      <td>0.012500</td>\n",
       "      <td>0.010000</td>\n",
       "      <td>0.017500</td>\n",
       "      <td>mRNA</td>\n",
       "    </tr>\n",
       "    <tr>\n",
       "      <th>2103</th>\n",
       "      <td>AT5G51820.1|PACid:19668976</td>\n",
       "      <td>1872</td>\n",
       "      <td>6</td>\n",
       "      <td>448.423193</td>\n",
       "      <td>212.200000</td>\n",
       "      <td>2.113210</td>\n",
       "      <td>50.505051</td>\n",
       "      <td>33.333333</td>\n",
       "      <td>5.327227</td>\n",
       "      <td>40.697282</td>\n",
       "      <td>...</td>\n",
       "      <td>0.017647</td>\n",
       "      <td>0.022460</td>\n",
       "      <td>0.014439</td>\n",
       "      <td>0.028342</td>\n",
       "      <td>0.018717</td>\n",
       "      <td>0.015508</td>\n",
       "      <td>0.025668</td>\n",
       "      <td>0.024599</td>\n",
       "      <td>0.034225</td>\n",
       "      <td>mRNA</td>\n",
       "    </tr>\n",
       "    <tr>\n",
       "      <th>2104</th>\n",
       "      <td>AT1G79970.1|PACid:19653440</td>\n",
       "      <td>723</td>\n",
       "      <td>12</td>\n",
       "      <td>265.369629</td>\n",
       "      <td>210.600000</td>\n",
       "      <td>1.260065</td>\n",
       "      <td>50.000000</td>\n",
       "      <td>33.333333</td>\n",
       "      <td>5.901932</td>\n",
       "      <td>43.983182</td>\n",
       "      <td>...</td>\n",
       "      <td>0.040222</td>\n",
       "      <td>0.023578</td>\n",
       "      <td>0.008322</td>\n",
       "      <td>0.022191</td>\n",
       "      <td>0.015257</td>\n",
       "      <td>0.009709</td>\n",
       "      <td>0.023578</td>\n",
       "      <td>0.020804</td>\n",
       "      <td>0.022191</td>\n",
       "      <td>mRNA</td>\n",
       "    </tr>\n",
       "  </tbody>\n",
       "</table>\n",
       "<p>4209 rows × 98 columns</p>\n",
       "</div>"
      ],
      "text/plain": [
       "                         nameseq  maximum_ORF_length  minimum_ORF_length  \\\n",
       "0      lcl|Athaliana_AT1G17255.1                 192                   6   \n",
       "1      lcl|Athaliana_AT3G29572.1                 186                   6   \n",
       "2      lcl|Athaliana_AT4G13615.1                 216                  15   \n",
       "3      lcl|Athaliana_AT5G28824.1                 141                  12   \n",
       "4      lcl|Athaliana_AT4G04296.1                 165                   9   \n",
       "...                          ...                 ...                 ...   \n",
       "2100  AT1G01770.1|PACid:19649858                1899                   6   \n",
       "2101  AT4G00820.1|PACid:19645036                1605                   6   \n",
       "2102  AT3G45020.1|PACid:19662337                 402                  15   \n",
       "2103  AT5G51820.1|PACid:19668976                1872                   6   \n",
       "2104  AT1G79970.1|PACid:19653440                 723                  12   \n",
       "\n",
       "      std_ORF_length  average_ORF_length  cv_ORF_length  \\\n",
       "0          53.220612           60.937500       0.873364   \n",
       "1          44.754750           50.888889       0.879460   \n",
       "2          75.367433           77.500000       0.972483   \n",
       "3          49.752990           64.200000       0.774969   \n",
       "4          53.249104           73.058824       0.728852   \n",
       "...              ...                 ...            ...   \n",
       "2100      380.178930          123.260870       3.084344   \n",
       "2101      486.812079          238.000000       2.045429   \n",
       "2102      180.349660          147.000000       1.226868   \n",
       "2103      448.423193          212.200000       2.113210   \n",
       "2104      265.369629          210.600000       1.260065   \n",
       "\n",
       "      maximum_GC_content_ORF  minimum_GC_content_ORF  std_GC_content_ORF  \\\n",
       "0                  51.851852               26.666667            5.170413   \n",
       "1                  48.148148               16.666667            8.910446   \n",
       "2                  54.166667               29.629630            8.359375   \n",
       "3                  41.666667               16.666667           10.413666   \n",
       "4                  41.666667               22.222222            5.147737   \n",
       "...                      ...                     ...                 ...   \n",
       "2100               59.259259               27.777778            7.354491   \n",
       "2101               49.717514               33.333333            4.415460   \n",
       "2102               58.333333               33.333333           10.241555   \n",
       "2103               50.505051               33.333333            5.327227   \n",
       "2104               50.000000               33.333333            5.901932   \n",
       "\n",
       "      average_GC_content_ORF  ...       TCT       TGA       TGC       TGG  \\\n",
       "0                  41.750088  ...  0.020847  0.027036  0.013355  0.017915   \n",
       "1                  31.011256  ...  0.014169  0.028337  0.011931  0.014169   \n",
       "2                  40.980431  ...  0.016484  0.041209  0.027473  0.030220   \n",
       "3                  29.000000  ...  0.040222  0.019417  0.005548  0.006935   \n",
       "4                  32.899476  ...  0.013475  0.012057  0.012057  0.019858   \n",
       "...                      ...  ...       ...       ...       ...       ...   \n",
       "2100               41.494641  ...  0.026885  0.020032  0.016869  0.034265   \n",
       "2101               42.634981  ...  0.020586  0.013100  0.011853  0.015596   \n",
       "2102               45.232172  ...  0.012500  0.040000  0.007500  0.015000   \n",
       "2103               40.697282  ...  0.017647  0.022460  0.014439  0.028342   \n",
       "2104               43.983182  ...  0.040222  0.023578  0.008322  0.022191   \n",
       "\n",
       "           TGT       TTA       TTC       TTG       TTT   label  \n",
       "0     0.019218  0.013029  0.021498  0.029642  0.024430  lncRNA  \n",
       "1     0.021626  0.035048  0.014169  0.030574  0.062640  lncRNA  \n",
       "2     0.021978  0.010989  0.008242  0.038462  0.035714  lncRNA  \n",
       "3     0.015257  0.015257  0.042996  0.015257  0.040222  lncRNA  \n",
       "4     0.012766  0.021277  0.015603  0.026241  0.031915  lncRNA  \n",
       "...        ...       ...       ...       ...       ...     ...  \n",
       "2100  0.021086  0.014760  0.021086  0.023195  0.014760    mRNA  \n",
       "2101  0.008734  0.014348  0.017467  0.012477  0.010605    mRNA  \n",
       "2102  0.015000  0.017500  0.012500  0.010000  0.017500    mRNA  \n",
       "2103  0.018717  0.015508  0.025668  0.024599  0.034225    mRNA  \n",
       "2104  0.015257  0.009709  0.023578  0.020804  0.022191    mRNA  \n",
       "\n",
       "[4209 rows x 98 columns]"
      ]
     },
     "execution_count": 3,
     "metadata": {},
     "output_type": "execute_result"
    }
   ],
   "source": [
    "dadosTreino"
   ]
  },
  {
   "cell_type": "code",
   "execution_count": 4,
   "metadata": {},
   "outputs": [],
   "source": [
    "## Remove column nameseq\n",
    "dadosTreino.drop(columns='nameseq', inplace=True)"
   ]
  },
  {
   "cell_type": "markdown",
   "metadata": {},
   "source": [
    "## Sem normalização dos dados"
   ]
  },
  {
   "cell_type": "code",
   "execution_count": 5,
   "metadata": {},
   "outputs": [],
   "source": [
    "#Divide a base entre os previsores e classe\n",
    "colunas = dadosTreino.columns.drop('label')\n",
    "\n",
    "# Gera os previsores e classe (X e y)\n",
    "X = dadosTreino[colunas].values\n",
    "y = dadosTreino['label']\n",
    "\n",
    "## Transform categorical in binary class values\n",
    "from sklearn.preprocessing import LabelEncoder\n",
    "le = LabelEncoder()\n",
    "y = le.fit_transform(y)\n",
    "\n",
    "## Gera os dados de teste\n",
    "# carrega a base de dados teste lncRNA e mRNA\n",
    "lncRNA_test = pandas.read_csv('bases/lncRNA_test.csv')\n",
    "mRNA_test = pandas.read_csv('bases/mRNA_test.csv')\n",
    "dados = pandas.concat([lncRNA_test,mRNA_test])\n",
    "\n",
    "dadosTeste = dados.columns.drop('label')\n",
    "X_teste = dados[dadosTeste].values\n",
    "\n",
    "##Remove categorical column nameseq\n",
    "import numpy as np\n",
    "X_teste = np.delete(X_teste, 0, axis=1)\n",
    "\n",
    "##Label Encoder Tranform\n",
    "y_teste = dados['label']\n",
    "y_teste = le.fit_transform(y_teste)"
   ]
  },
  {
   "cell_type": "code",
   "execution_count": 6,
   "metadata": {},
   "outputs": [
    {
     "name": "stdout",
     "output_type": "stream",
     "text": [
      "92.8\n"
     ]
    }
   ],
   "source": [
    "# instancia um DecisionTreeClassifier\n",
    "clf = DecisionTreeClassifier()\n",
    "# treina o knn\n",
    "clf.fit(X, y)\n",
    "\n",
    "y_pred = clf.predict(X_teste)\n",
    "#print(y_pred)\n",
    "\n",
    " # gerar score baseado na acurácia\n",
    "acuracidade = round(accuracy_score(y_teste,y_pred)*100,2)\n",
    "print(acuracidade)"
   ]
  },
  {
   "cell_type": "markdown",
   "metadata": {},
   "source": [
    "## Com normalização dos dados"
   ]
  },
  {
   "cell_type": "code",
   "execution_count": 7,
   "metadata": {},
   "outputs": [],
   "source": [
    "## Transform categorical in binary class values\n",
    "from sklearn.preprocessing import LabelEncoder\n",
    "le = LabelEncoder()\n",
    "dadosTreino[\"label\"] = le.fit_transform(dadosTreino[\"label\"])"
   ]
  },
  {
   "cell_type": "code",
   "execution_count": 8,
   "metadata": {},
   "outputs": [],
   "source": [
    "from sklearn.preprocessing import MinMaxScaler\n",
    "\n",
    "# create a scaler object\n",
    "scaler = MinMaxScaler()\n",
    "# fit and transform the data\n",
    "cols = dadosTreino.iloc[:, 0:11].columns\n",
    "dadosTreino[cols] = pandas.DataFrame(scaler.fit_transform(dadosTreino.iloc[:, 0:11]), columns=dadosTreino.iloc[:, 0:11].columns)"
   ]
  },
  {
   "cell_type": "code",
   "execution_count": 9,
   "metadata": {},
   "outputs": [
    {
     "data": {
      "text/html": [
       "<div>\n",
       "<style scoped>\n",
       "    .dataframe tbody tr th:only-of-type {\n",
       "        vertical-align: middle;\n",
       "    }\n",
       "\n",
       "    .dataframe tbody tr th {\n",
       "        vertical-align: top;\n",
       "    }\n",
       "\n",
       "    .dataframe thead th {\n",
       "        text-align: right;\n",
       "    }\n",
       "</style>\n",
       "<table border=\"1\" class=\"dataframe\">\n",
       "  <thead>\n",
       "    <tr style=\"text-align: right;\">\n",
       "      <th></th>\n",
       "      <th>maximum_ORF_length</th>\n",
       "      <th>minimum_ORF_length</th>\n",
       "      <th>std_ORF_length</th>\n",
       "      <th>average_ORF_length</th>\n",
       "      <th>cv_ORF_length</th>\n",
       "      <th>maximum_GC_content_ORF</th>\n",
       "      <th>minimum_GC_content_ORF</th>\n",
       "      <th>std_GC_content_ORF</th>\n",
       "      <th>average_GC_content_ORF</th>\n",
       "      <th>cv_GC_content_ORF</th>\n",
       "      <th>...</th>\n",
       "      <th>TCT</th>\n",
       "      <th>TGA</th>\n",
       "      <th>TGC</th>\n",
       "      <th>TGG</th>\n",
       "      <th>TGT</th>\n",
       "      <th>TTA</th>\n",
       "      <th>TTC</th>\n",
       "      <th>TTG</th>\n",
       "      <th>TTT</th>\n",
       "      <th>label</th>\n",
       "    </tr>\n",
       "  </thead>\n",
       "  <tbody>\n",
       "    <tr>\n",
       "      <th>0</th>\n",
       "      <td>0.012551</td>\n",
       "      <td>0.006536</td>\n",
       "      <td>0.043433</td>\n",
       "      <td>0.066381</td>\n",
       "      <td>0.111120</td>\n",
       "      <td>0.674074</td>\n",
       "      <td>0.417143</td>\n",
       "      <td>0.257756</td>\n",
       "      <td>0.602016</td>\n",
       "      <td>0.219015</td>\n",
       "      <td>...</td>\n",
       "      <td>0.020847</td>\n",
       "      <td>0.027036</td>\n",
       "      <td>0.013355</td>\n",
       "      <td>0.017915</td>\n",
       "      <td>0.019218</td>\n",
       "      <td>0.013029</td>\n",
       "      <td>0.021498</td>\n",
       "      <td>0.029642</td>\n",
       "      <td>0.024430</td>\n",
       "      <td>0</td>\n",
       "    </tr>\n",
       "    <tr>\n",
       "      <th>1</th>\n",
       "      <td>0.012159</td>\n",
       "      <td>0.006536</td>\n",
       "      <td>0.036524</td>\n",
       "      <td>0.055435</td>\n",
       "      <td>0.111895</td>\n",
       "      <td>0.625926</td>\n",
       "      <td>0.260714</td>\n",
       "      <td>0.444205</td>\n",
       "      <td>0.447167</td>\n",
       "      <td>0.508143</td>\n",
       "      <td>...</td>\n",
       "      <td>0.014169</td>\n",
       "      <td>0.028337</td>\n",
       "      <td>0.011931</td>\n",
       "      <td>0.014169</td>\n",
       "      <td>0.021626</td>\n",
       "      <td>0.035048</td>\n",
       "      <td>0.014169</td>\n",
       "      <td>0.030574</td>\n",
       "      <td>0.062640</td>\n",
       "      <td>0</td>\n",
       "    </tr>\n",
       "    <tr>\n",
       "      <th>2</th>\n",
       "      <td>0.014120</td>\n",
       "      <td>0.016340</td>\n",
       "      <td>0.061507</td>\n",
       "      <td>0.084423</td>\n",
       "      <td>0.123731</td>\n",
       "      <td>0.704167</td>\n",
       "      <td>0.463492</td>\n",
       "      <td>0.416733</td>\n",
       "      <td>0.590918</td>\n",
       "      <td>0.360748</td>\n",
       "      <td>...</td>\n",
       "      <td>0.016484</td>\n",
       "      <td>0.041209</td>\n",
       "      <td>0.027473</td>\n",
       "      <td>0.030220</td>\n",
       "      <td>0.021978</td>\n",
       "      <td>0.010989</td>\n",
       "      <td>0.008242</td>\n",
       "      <td>0.038462</td>\n",
       "      <td>0.035714</td>\n",
       "      <td>0</td>\n",
       "    </tr>\n",
       "    <tr>\n",
       "      <th>3</th>\n",
       "      <td>0.009217</td>\n",
       "      <td>0.013072</td>\n",
       "      <td>0.040603</td>\n",
       "      <td>0.069935</td>\n",
       "      <td>0.098601</td>\n",
       "      <td>0.541667</td>\n",
       "      <td>0.260714</td>\n",
       "      <td>0.519144</td>\n",
       "      <td>0.418166</td>\n",
       "      <td>0.635056</td>\n",
       "      <td>...</td>\n",
       "      <td>0.040222</td>\n",
       "      <td>0.019417</td>\n",
       "      <td>0.005548</td>\n",
       "      <td>0.006935</td>\n",
       "      <td>0.015257</td>\n",
       "      <td>0.015257</td>\n",
       "      <td>0.042996</td>\n",
       "      <td>0.015257</td>\n",
       "      <td>0.040222</td>\n",
       "      <td>0</td>\n",
       "    </tr>\n",
       "    <tr>\n",
       "      <th>4</th>\n",
       "      <td>0.010786</td>\n",
       "      <td>0.009804</td>\n",
       "      <td>0.043457</td>\n",
       "      <td>0.079585</td>\n",
       "      <td>0.092733</td>\n",
       "      <td>0.541667</td>\n",
       "      <td>0.347619</td>\n",
       "      <td>0.256626</td>\n",
       "      <td>0.474395</td>\n",
       "      <td>0.276716</td>\n",
       "      <td>...</td>\n",
       "      <td>0.013475</td>\n",
       "      <td>0.012057</td>\n",
       "      <td>0.012057</td>\n",
       "      <td>0.019858</td>\n",
       "      <td>0.012766</td>\n",
       "      <td>0.021277</td>\n",
       "      <td>0.015603</td>\n",
       "      <td>0.026241</td>\n",
       "      <td>0.031915</td>\n",
       "      <td>0</td>\n",
       "    </tr>\n",
       "    <tr>\n",
       "      <th>...</th>\n",
       "      <td>...</td>\n",
       "      <td>...</td>\n",
       "      <td>...</td>\n",
       "      <td>...</td>\n",
       "      <td>...</td>\n",
       "      <td>...</td>\n",
       "      <td>...</td>\n",
       "      <td>...</td>\n",
       "      <td>...</td>\n",
       "      <td>...</td>\n",
       "      <td>...</td>\n",
       "      <td>...</td>\n",
       "      <td>...</td>\n",
       "      <td>...</td>\n",
       "      <td>...</td>\n",
       "      <td>...</td>\n",
       "      <td>...</td>\n",
       "      <td>...</td>\n",
       "      <td>...</td>\n",
       "      <td>...</td>\n",
       "      <td>...</td>\n",
       "    </tr>\n",
       "    <tr>\n",
       "      <th>2100</th>\n",
       "      <td>0.013532</td>\n",
       "      <td>0.026144</td>\n",
       "      <td>0.042781</td>\n",
       "      <td>0.079521</td>\n",
       "      <td>0.091365</td>\n",
       "      <td>0.693333</td>\n",
       "      <td>0.423661</td>\n",
       "      <td>0.355223</td>\n",
       "      <td>0.584488</td>\n",
       "      <td>0.310884</td>\n",
       "      <td>...</td>\n",
       "      <td>0.026885</td>\n",
       "      <td>0.020032</td>\n",
       "      <td>0.016869</td>\n",
       "      <td>0.034265</td>\n",
       "      <td>0.021086</td>\n",
       "      <td>0.014760</td>\n",
       "      <td>0.021086</td>\n",
       "      <td>0.023195</td>\n",
       "      <td>0.014760</td>\n",
       "      <td>1</td>\n",
       "    </tr>\n",
       "    <tr>\n",
       "      <th>2101</th>\n",
       "      <td>0.014317</td>\n",
       "      <td>0.039216</td>\n",
       "      <td>0.049190</td>\n",
       "      <td>0.112979</td>\n",
       "      <td>0.073942</td>\n",
       "      <td>0.787075</td>\n",
       "      <td>0.434524</td>\n",
       "      <td>0.595516</td>\n",
       "      <td>0.640997</td>\n",
       "      <td>0.475237</td>\n",
       "      <td>...</td>\n",
       "      <td>0.020586</td>\n",
       "      <td>0.013100</td>\n",
       "      <td>0.011853</td>\n",
       "      <td>0.015596</td>\n",
       "      <td>0.008734</td>\n",
       "      <td>0.014348</td>\n",
       "      <td>0.017467</td>\n",
       "      <td>0.012477</td>\n",
       "      <td>0.010605</td>\n",
       "      <td>1</td>\n",
       "    </tr>\n",
       "    <tr>\n",
       "      <th>2102</th>\n",
       "      <td>0.012355</td>\n",
       "      <td>0.006536</td>\n",
       "      <td>0.037155</td>\n",
       "      <td>0.061200</td>\n",
       "      <td>0.103104</td>\n",
       "      <td>0.619048</td>\n",
       "      <td>0.086905</td>\n",
       "      <td>0.382216</td>\n",
       "      <td>0.436269</td>\n",
       "      <td>0.448154</td>\n",
       "      <td>...</td>\n",
       "      <td>0.012500</td>\n",
       "      <td>0.040000</td>\n",
       "      <td>0.007500</td>\n",
       "      <td>0.015000</td>\n",
       "      <td>0.015000</td>\n",
       "      <td>0.017500</td>\n",
       "      <td>0.012500</td>\n",
       "      <td>0.010000</td>\n",
       "      <td>0.017500</td>\n",
       "      <td>1</td>\n",
       "    </tr>\n",
       "    <tr>\n",
       "      <th>2103</th>\n",
       "      <td>0.017454</td>\n",
       "      <td>0.045752</td>\n",
       "      <td>0.076339</td>\n",
       "      <td>0.181917</td>\n",
       "      <td>0.071266</td>\n",
       "      <td>0.588095</td>\n",
       "      <td>0.679615</td>\n",
       "      <td>0.039041</td>\n",
       "      <td>0.636544</td>\n",
       "      <td>0.031374</td>\n",
       "      <td>...</td>\n",
       "      <td>0.017647</td>\n",
       "      <td>0.022460</td>\n",
       "      <td>0.014439</td>\n",
       "      <td>0.028342</td>\n",
       "      <td>0.018717</td>\n",
       "      <td>0.015508</td>\n",
       "      <td>0.025668</td>\n",
       "      <td>0.024599</td>\n",
       "      <td>0.034225</td>\n",
       "      <td>1</td>\n",
       "    </tr>\n",
       "    <tr>\n",
       "      <th>2104</th>\n",
       "      <td>0.022946</td>\n",
       "      <td>0.026144</td>\n",
       "      <td>0.111530</td>\n",
       "      <td>0.125000</td>\n",
       "      <td>0.151528</td>\n",
       "      <td>0.722222</td>\n",
       "      <td>0.554018</td>\n",
       "      <td>0.359256</td>\n",
       "      <td>0.666736</td>\n",
       "      <td>0.275628</td>\n",
       "      <td>...</td>\n",
       "      <td>0.040222</td>\n",
       "      <td>0.023578</td>\n",
       "      <td>0.008322</td>\n",
       "      <td>0.022191</td>\n",
       "      <td>0.015257</td>\n",
       "      <td>0.009709</td>\n",
       "      <td>0.023578</td>\n",
       "      <td>0.020804</td>\n",
       "      <td>0.022191</td>\n",
       "      <td>1</td>\n",
       "    </tr>\n",
       "  </tbody>\n",
       "</table>\n",
       "<p>4209 rows × 97 columns</p>\n",
       "</div>"
      ],
      "text/plain": [
       "      maximum_ORF_length  minimum_ORF_length  std_ORF_length  \\\n",
       "0               0.012551            0.006536        0.043433   \n",
       "1               0.012159            0.006536        0.036524   \n",
       "2               0.014120            0.016340        0.061507   \n",
       "3               0.009217            0.013072        0.040603   \n",
       "4               0.010786            0.009804        0.043457   \n",
       "...                  ...                 ...             ...   \n",
       "2100            0.013532            0.026144        0.042781   \n",
       "2101            0.014317            0.039216        0.049190   \n",
       "2102            0.012355            0.006536        0.037155   \n",
       "2103            0.017454            0.045752        0.076339   \n",
       "2104            0.022946            0.026144        0.111530   \n",
       "\n",
       "      average_ORF_length  cv_ORF_length  maximum_GC_content_ORF  \\\n",
       "0               0.066381       0.111120                0.674074   \n",
       "1               0.055435       0.111895                0.625926   \n",
       "2               0.084423       0.123731                0.704167   \n",
       "3               0.069935       0.098601                0.541667   \n",
       "4               0.079585       0.092733                0.541667   \n",
       "...                  ...            ...                     ...   \n",
       "2100            0.079521       0.091365                0.693333   \n",
       "2101            0.112979       0.073942                0.787075   \n",
       "2102            0.061200       0.103104                0.619048   \n",
       "2103            0.181917       0.071266                0.588095   \n",
       "2104            0.125000       0.151528                0.722222   \n",
       "\n",
       "      minimum_GC_content_ORF  std_GC_content_ORF  average_GC_content_ORF  \\\n",
       "0                   0.417143            0.257756                0.602016   \n",
       "1                   0.260714            0.444205                0.447167   \n",
       "2                   0.463492            0.416733                0.590918   \n",
       "3                   0.260714            0.519144                0.418166   \n",
       "4                   0.347619            0.256626                0.474395   \n",
       "...                      ...                 ...                     ...   \n",
       "2100                0.423661            0.355223                0.584488   \n",
       "2101                0.434524            0.595516                0.640997   \n",
       "2102                0.086905            0.382216                0.436269   \n",
       "2103                0.679615            0.039041                0.636544   \n",
       "2104                0.554018            0.359256                0.666736   \n",
       "\n",
       "      cv_GC_content_ORF  ...       TCT       TGA       TGC       TGG  \\\n",
       "0              0.219015  ...  0.020847  0.027036  0.013355  0.017915   \n",
       "1              0.508143  ...  0.014169  0.028337  0.011931  0.014169   \n",
       "2              0.360748  ...  0.016484  0.041209  0.027473  0.030220   \n",
       "3              0.635056  ...  0.040222  0.019417  0.005548  0.006935   \n",
       "4              0.276716  ...  0.013475  0.012057  0.012057  0.019858   \n",
       "...                 ...  ...       ...       ...       ...       ...   \n",
       "2100           0.310884  ...  0.026885  0.020032  0.016869  0.034265   \n",
       "2101           0.475237  ...  0.020586  0.013100  0.011853  0.015596   \n",
       "2102           0.448154  ...  0.012500  0.040000  0.007500  0.015000   \n",
       "2103           0.031374  ...  0.017647  0.022460  0.014439  0.028342   \n",
       "2104           0.275628  ...  0.040222  0.023578  0.008322  0.022191   \n",
       "\n",
       "           TGT       TTA       TTC       TTG       TTT  label  \n",
       "0     0.019218  0.013029  0.021498  0.029642  0.024430      0  \n",
       "1     0.021626  0.035048  0.014169  0.030574  0.062640      0  \n",
       "2     0.021978  0.010989  0.008242  0.038462  0.035714      0  \n",
       "3     0.015257  0.015257  0.042996  0.015257  0.040222      0  \n",
       "4     0.012766  0.021277  0.015603  0.026241  0.031915      0  \n",
       "...        ...       ...       ...       ...       ...    ...  \n",
       "2100  0.021086  0.014760  0.021086  0.023195  0.014760      1  \n",
       "2101  0.008734  0.014348  0.017467  0.012477  0.010605      1  \n",
       "2102  0.015000  0.017500  0.012500  0.010000  0.017500      1  \n",
       "2103  0.018717  0.015508  0.025668  0.024599  0.034225      1  \n",
       "2104  0.015257  0.009709  0.023578  0.020804  0.022191      1  \n",
       "\n",
       "[4209 rows x 97 columns]"
      ]
     },
     "execution_count": 9,
     "metadata": {},
     "output_type": "execute_result"
    }
   ],
   "source": [
    "dadosTreino"
   ]
  },
  {
   "cell_type": "code",
   "execution_count": 10,
   "metadata": {},
   "outputs": [],
   "source": [
    "#Divide a base entre os previsores e classe\n",
    "colunas = dadosTreino.columns.drop('label')\n",
    "\n",
    "# Gera os previsores e classe (X e y)\n",
    "X = dadosTreino[colunas].values\n",
    "y = dadosTreino['label']\n",
    "\n",
    "## Gera os dados de teste\n",
    "# carrega a base de dados teste lncRNA e mRNA\n",
    "lncRNA_test = pandas.read_csv('bases/lncRNA_test.csv')\n",
    "mRNA_test = pandas.read_csv('bases/mRNA_test.csv')\n",
    "dados = pandas.concat([lncRNA_test,mRNA_test])\n",
    "\n",
    "dadosTeste = dados.columns.drop('label')\n",
    "X_teste = dados[dadosTeste].values\n",
    "\n",
    "##Remove categorical column nameseq\n",
    "import numpy as np\n",
    "X_teste = np.delete(X_teste, 0, axis=1)\n",
    "\n",
    "##Label Encoder Tranform\n",
    "y_teste = dados['label']\n",
    "y_teste = le.fit_transform(y_teste)"
   ]
  },
  {
   "cell_type": "markdown",
   "metadata": {},
   "source": [
    "#### Atributos utilizados: "
   ]
  },
  {
   "cell_type": "code",
   "execution_count": 11,
   "metadata": {},
   "outputs": [
    {
     "name": "stdout",
     "output_type": "stream",
     "text": [
      "Columns size >>> 96\n",
      "Index(['maximum_ORF_length', 'minimum_ORF_length', 'std_ORF_length',\n",
      "       'average_ORF_length', 'cv_ORF_length', 'maximum_GC_content_ORF',\n",
      "       'minimum_GC_content_ORF', 'std_GC_content_ORF',\n",
      "       'average_GC_content_ORF', 'cv_GC_content_ORF', 'fickett_score-ORF',\n",
      "       'fickett_score-full-sequence', 'A', 'C', 'G', 'T', 'AA', 'AC', 'AG',\n",
      "       'AT', 'CA', 'CC', 'CG', 'CT', 'GA', 'GC', 'GG', 'GT', 'TA', 'TC', 'TG',\n",
      "       'TT', 'AAA', 'AAC', 'AAG', 'AAT', 'ACA', 'ACC', 'ACG', 'ACT', 'AGA',\n",
      "       'AGC', 'AGG', 'AGT', 'ATA', 'ATC', 'ATG', 'ATT', 'CAA', 'CAC', 'CAG',\n",
      "       'CAT', 'CCA', 'CCC', 'CCG', 'CCT', 'CGA', 'CGC', 'CGG', 'CGT', 'CTA',\n",
      "       'CTC', 'CTG', 'CTT', 'GAA', 'GAC', 'GAG', 'GAT', 'GCA', 'GCC', 'GCG',\n",
      "       'GCT', 'GGA', 'GGC', 'GGG', 'GGT', 'GTA', 'GTC', 'GTG', 'GTT', 'TAA',\n",
      "       'TAC', 'TAG', 'TAT', 'TCA', 'TCC', 'TCG', 'TCT', 'TGA', 'TGC', 'TGG',\n",
      "       'TGT', 'TTA', 'TTC', 'TTG', 'TTT', 'label'],\n",
      "      dtype='object')\n"
     ]
    }
   ],
   "source": [
    "# Exibe a quantidade de atributos\n",
    "print(\"Columns size >>> %d\"%len(colunas))\n",
    "\n",
    "# Exibe o nome dos atributos\n",
    "print(dadosTreino.columns)"
   ]
  },
  {
   "cell_type": "code",
   "execution_count": 12,
   "metadata": {},
   "outputs": [
    {
     "name": "stdout",
     "output_type": "stream",
     "text": [
      "(4209, 96) (4209,) (1805, 96) (1805,)\n"
     ]
    }
   ],
   "source": [
    "print(X.shape, y.shape, X_teste.shape, y_teste.shape)"
   ]
  },
  {
   "cell_type": "markdown",
   "metadata": {},
   "source": [
    "#### Aplica o modelo de predição com Decision Tree"
   ]
  },
  {
   "cell_type": "code",
   "execution_count": 13,
   "metadata": {},
   "outputs": [
    {
     "name": "stdout",
     "output_type": "stream",
     "text": [
      "57.34\n"
     ]
    }
   ],
   "source": [
    "# instancia um DecisionTreeClassifier\n",
    "clf = DecisionTreeClassifier()\n",
    "# treina o DT\n",
    "clf.fit(X, y)\n",
    "\n",
    "y_pred = clf.predict(X_teste)\n",
    "#print(y_pred)\n",
    "\n",
    " # gerar score baseado na acurácia\n",
    "acuracidade = round(accuracy_score(y_teste,y_pred)*100,2)\n",
    "print(acuracidade)"
   ]
  },
  {
   "cell_type": "markdown",
   "metadata": {},
   "source": [
    "## Seleção de características com Wrapper e Recursive feature elimination\n",
    "#### Detalhes: https://scikit-learn.org/stable/modules/feature_selection.html#feature-selection"
   ]
  },
  {
   "cell_type": "code",
   "execution_count": 12,
   "metadata": {},
   "outputs": [
    {
     "name": "stdout",
     "output_type": "stream",
     "text": [
      "(4209, 96)\n"
     ]
    }
   ],
   "source": [
    "print(X.shape)"
   ]
  },
  {
   "cell_type": "code",
   "execution_count": 14,
   "metadata": {},
   "outputs": [
    {
     "name": "stdout",
     "output_type": "stream",
     "text": [
      "[ 1 23 13  1  1 26  1 25  1  1  1  1 28 31  5  1 40  1  1  1 46 41  1  1\n",
      " 44 27  1 35  1 49  1 36  4 48 42  1  1  1  1  3  1  1  9  1 16 11  1  1\n",
      "  1 47 37 24 43 33 34  1  1 39  1  1  1  1 14  2  1  1 32 22 10 12  1  1\n",
      "  1 19 29 15  1  1 21 18  1  1 20  6  1 45  7 17  8  1  1 30  1  1 38  1]\n",
      "[ 0  3  4  6  8  9 10 11 15 17 18 19 22 23 26 28 30 35 36 37 38 40 41 43\n",
      " 46 47 48 55 56 58 59 60 61 64 65 70 71 72 76 77 80 81 84 89 90 92 93 95]\n",
      "58.45\n"
     ]
    }
   ],
   "source": [
    "from sklearn.feature_selection import RFE\n",
    "\n",
    "# instancia um DecisionTreeClassifier\n",
    "clf = DecisionTreeClassifier()\n",
    "selector = RFE(clf, step=1)\n",
    "selector = selector.fit(X, y)\n",
    "\n",
    "#Armazena a nova dimensão do vetor de características\n",
    "features = selector.fit_transform(X,y)\n",
    "\n",
    "# instancia um DecisionTreeClassifier\n",
    "y_pred = selector.predict(X_teste)\n",
    "\n",
    "print(selector.ranking_)\n",
    "print(selector.get_support(indices=True))\n",
    "\n",
    " # gerar score baseado na acurácia\n",
    "acuracidade = round(accuracy_score(y_teste,y_pred)*100,2)\n",
    "print(acuracidade)\n",
    "\n"
   ]
  },
  {
   "cell_type": "code",
   "execution_count": 15,
   "metadata": {},
   "outputs": [
    {
     "name": "stdout",
     "output_type": "stream",
     "text": [
      "(4209, 48)\n"
     ]
    }
   ],
   "source": [
    "print(features.shape)"
   ]
  },
  {
   "cell_type": "markdown",
   "metadata": {},
   "source": [
    "### Obtendo o nome dos 48 atributos"
   ]
  },
  {
   "cell_type": "code",
   "execution_count": 16,
   "metadata": {},
   "outputs": [
    {
     "name": "stdout",
     "output_type": "stream",
     "text": [
      "Index(['maximum_ORF_length', 'average_ORF_length', 'cv_ORF_length',\n",
      "       'minimum_GC_content_ORF', 'average_GC_content_ORF', 'cv_GC_content_ORF',\n",
      "       'fickett_score-ORF', 'fickett_score-full-sequence', 'T', 'AC', 'AG',\n",
      "       'AT', 'CG', 'CT', 'GG', 'TA', 'TG', 'AAT', 'ACA', 'ACC', 'ACG', 'AGA',\n",
      "       'AGC', 'AGT', 'ATG', 'ATT', 'CAA', 'CCT', 'CGA', 'CGG', 'CGT', 'CTA',\n",
      "       'CTC', 'GAA', 'GAC', 'GCG', 'GCT', 'GGA', 'GTA', 'GTC', 'TAA', 'TAC',\n",
      "       'TCA', 'TGC', 'TGG', 'TTA', 'TTC', 'TTT'],\n",
      "      dtype='object')\n"
     ]
    }
   ],
   "source": [
    "temp = pandas.Series(selector.support_,index = colunas)\n",
    "wrapperApproach = temp[temp==True].index\n",
    "print(wrapperApproach)"
   ]
  },
  {
   "cell_type": "code",
   "execution_count": 17,
   "metadata": {},
   "outputs": [],
   "source": [
    "# Deixa no formato list\n",
    "featuresList = wrapperApproach.tolist()"
   ]
  },
  {
   "cell_type": "code",
   "execution_count": 18,
   "metadata": {
    "scrolled": false
   },
   "outputs": [
    {
     "name": "stdout",
     "output_type": "stream",
     "text": [
      "['maximum_ORF_length', 'average_ORF_length', 'cv_ORF_length', 'minimum_GC_content_ORF', 'average_GC_content_ORF', 'cv_GC_content_ORF', 'fickett_score-ORF', 'fickett_score-full-sequence', 'T', 'AC', 'AG', 'AT', 'CG', 'CT', 'GG', 'TA', 'TG', 'AAT', 'ACA', 'ACC', 'ACG', 'AGA', 'AGC', 'AGT', 'ATG', 'ATT', 'CAA', 'CCT', 'CGA', 'CGG', 'CGT', 'CTA', 'CTC', 'GAA', 'GAC', 'GCG', 'GCT', 'GGA', 'GTA', 'GTC', 'TAA', 'TAC', 'TCA', 'TGC', 'TGG', 'TTA', 'TTC', 'TTT']\n"
     ]
    }
   ],
   "source": [
    "print(featuresList)"
   ]
  },
  {
   "cell_type": "markdown",
   "metadata": {},
   "source": [
    "## Análise por Feature Importance (Método Wrapper)"
   ]
  },
  {
   "cell_type": "markdown",
   "metadata": {},
   "source": [
    "Decision tree algorithms like classification and regression trees (CART) offer importance scores based on the reduction in the criterion used to select split points, like Gini or entropy."
   ]
  },
  {
   "cell_type": "code",
   "execution_count": 19,
   "metadata": {
    "scrolled": true
   },
   "outputs": [
    {
     "name": "stdout",
     "output_type": "stream",
     "text": [
      "Feature maximum_ORF_length - score 0.00530\n",
      "Feature average_ORF_length - score 0.00810\n",
      "Feature cv_ORF_length - score 0.00762\n",
      "Feature minimum_GC_content_ORF - score 0.00993\n",
      "Feature average_GC_content_ORF - score 0.04117\n",
      "Feature cv_GC_content_ORF - score 0.00696\n",
      "Feature fickett_score-ORF - score 0.07971\n",
      "Feature fickett_score-full-sequence - score 0.31026\n",
      "Feature T - score 0.00561\n",
      "Feature AC - score 0.00176\n",
      "Feature AG - score 0.00760\n",
      "Feature AT - score 0.02073\n",
      "Feature CG - score 0.01448\n",
      "Feature CT - score 0.01075\n",
      "Feature GG - score 0.02027\n",
      "Feature TA - score 0.02761\n",
      "Feature TG - score 0.00950\n",
      "Feature AAT - score 0.00668\n",
      "Feature ACA - score 0.00657\n",
      "Feature ACC - score 0.00701\n",
      "Feature ACG - score 0.00632\n",
      "Feature AGA - score 0.00441\n",
      "Feature AGC - score 0.00773\n",
      "Feature AGT - score 0.00814\n",
      "Feature ATG - score 0.00591\n",
      "Feature ATT - score 0.00815\n",
      "Feature CAA - score 0.00632\n",
      "Feature CCT - score 0.00882\n",
      "Feature CGA - score 0.00559\n",
      "Feature CGG - score 0.00668\n",
      "Feature CGT - score 0.01191\n",
      "Feature CTA - score 0.00894\n",
      "Feature CTC - score 0.00879\n",
      "Feature GAA - score 0.01023\n",
      "Feature GAC - score 0.00449\n",
      "Feature GCG - score 0.00635\n",
      "Feature GCT - score 0.00674\n",
      "Feature GGA - score 0.01197\n",
      "Feature GTA - score 0.00991\n",
      "Feature GTC - score 0.00730\n",
      "Feature TAA - score 0.01784\n",
      "Feature TAC - score 0.00546\n",
      "Feature TCA - score 0.00438\n",
      "Feature TGC - score 0.01192\n",
      "Feature TGG - score 0.04546\n",
      "Feature TTA - score 0.00705\n",
      "Feature TTC - score 0.01279\n",
      "Feature TTT - score 0.13280\n"
     ]
    },
    {
     "data": {
      "image/png": "[encoded data removed]",
      "text/plain": [
       "<Figure size 432x288 with 1 Axes>"
      ]
     },
     "metadata": {
      "needs_background": "light"
     },
     "output_type": "display_data"
    }
   ],
   "source": [
    "# decision tree for feature importance on a regression problem\n",
    "from sklearn.tree import DecisionTreeClassifier\n",
    "from matplotlib import pyplot\n",
    "\n",
    "# define the model\n",
    "model = DecisionTreeClassifier()\n",
    "# fit the model\n",
    "model.fit(features, y)\n",
    "# get importance\n",
    "importance = model.feature_importances_\n",
    "# summarize feature importance\n",
    "for i,v in enumerate(importance):\n",
    "    print('Feature %s - score %.5f' % (featuresList[i], v) )\n",
    "    #print('Feature: %0d, Score: %.5f' % (i,v))\n",
    "# plot feature importance\n",
    "pyplot.bar([x for x in range(len(importance))], importance)\n",
    "pyplot.show()"
   ]
  },
  {
   "cell_type": "code",
   "execution_count": 20,
   "metadata": {},
   "outputs": [
    {
     "name": "stdout",
     "output_type": "stream",
     "text": [
      "Feature maximum_ORF_length - score 0.00778\n",
      "Feature average_ORF_length - score 0.01116\n",
      "Feature cv_ORF_length - score 0.00924\n",
      "Feature minimum_GC_content_ORF - score 0.01227\n",
      "Feature average_GC_content_ORF - score 0.02421\n",
      "Feature cv_GC_content_ORF - score 0.01059\n",
      "Feature fickett_score-ORF - score 0.02550\n",
      "Feature fickett_score-full-sequence - score 0.13728\n",
      "Feature T - score 0.04265\n",
      "Feature AC - score 0.01069\n",
      "Feature AG - score 0.01188\n",
      "Feature AT - score 0.01433\n",
      "Feature CG - score 0.01213\n",
      "Feature CT - score 0.01054\n",
      "Feature GG - score 0.05039\n",
      "Feature TA - score 0.03487\n",
      "Feature TG - score 0.01059\n",
      "Feature AAT - score 0.02988\n",
      "Feature ACA - score 0.01107\n",
      "Feature ACC - score 0.01030\n",
      "Feature ACG - score 0.01489\n",
      "Feature AGA - score 0.01004\n",
      "Feature AGC - score 0.01117\n",
      "Feature AGT - score 0.01055\n",
      "Feature ATG - score 0.01261\n",
      "Feature ATT - score 0.02580\n",
      "Feature CAA - score 0.01047\n",
      "Feature CCT - score 0.01069\n",
      "Feature CGA - score 0.00948\n",
      "Feature CGG - score 0.01005\n",
      "Feature CGT - score 0.01064\n",
      "Feature CTA - score 0.01103\n",
      "Feature CTC - score 0.01005\n",
      "Feature GAA - score 0.00966\n",
      "Feature GAC - score 0.00932\n",
      "Feature GCG - score 0.01030\n",
      "Feature GCT - score 0.01977\n",
      "Feature GGA - score 0.04279\n",
      "Feature GTA - score 0.01221\n",
      "Feature GTC - score 0.01266\n",
      "Feature TAA - score 0.04892\n",
      "Feature TAC - score 0.01245\n",
      "Feature TCA - score 0.01352\n",
      "Feature TGC - score 0.01515\n",
      "Feature TGG - score 0.03455\n",
      "Feature TTA - score 0.02402\n",
      "Feature TTC - score 0.01126\n",
      "Feature TTT - score 0.07861\n"
     ]
    },
    {
     "data": {
      "image/png": "[encoded data removed]",
      "text/plain": [
       "<Figure size 432x288 with 1 Axes>"
      ]
     },
     "metadata": {
      "needs_background": "light"
     },
     "output_type": "display_data"
    }
   ],
   "source": [
    "# random forest for feature importance on a classification problem\n",
    "from sklearn.datasets import make_classification\n",
    "from sklearn.ensemble import RandomForestClassifier\n",
    "from matplotlib import pyplot\n",
    "# define the model\n",
    "model = RandomForestClassifier()\n",
    "# fit the model\n",
    "model.fit(features, y)\n",
    "# get importance\n",
    "importance = model.feature_importances_\n",
    "# summarize feature importance\n",
    "for i,v in enumerate(importance):\n",
    "     print('Feature %s - score %.5f' % (featuresList[i], v) )\n",
    "     #print('Feature: %0d, Score: %.5f' % (i,v))\n",
    "# plot feature importance\n",
    "pyplot.bar([x for x in range(len(importance))], importance)\n",
    "pyplot.show()"
   ]
  },
  {
   "cell_type": "code",
   "execution_count": null,
   "metadata": {},
   "outputs": [],
   "source": []
  },
  {
   "cell_type": "markdown",
   "metadata": {},
   "source": [
    "## Seleção de atributos abordagem filtro"
   ]
  },
  {
   "cell_type": "code",
   "execution_count": 21,
   "metadata": {},
   "outputs": [
    {
     "name": "stdout",
     "output_type": "stream",
     "text": [
      "[11 14 15 16 18 19 22 24 25 26 28 31 32 35 38 41 42 44 47 50 51 56 60 61\n",
      " 62 64 65 66 68 69 70 71 72 73 74 75 76 77 80 81 82 83 86 87 90 91 92 95]\n"
     ]
    }
   ],
   "source": [
    "#Feature selection with Mutual Information \n",
    "import numpy\n",
    "from pandas.plotting import scatter_matrix\n",
    "from sklearn.feature_selection import chi2\n",
    "from sklearn.feature_selection import SelectKBest\n",
    "from sklearn.feature_selection import mutual_info_classif\n",
    "from sklearn.feature_selection import f_classif\n",
    "\n",
    "#selector = SelectKBest(score_func=chi2, k=42)\n",
    "selector = SelectKBest(score_func=mutual_info_classif, k=48)\n",
    "#selector = SelectKBest(score_func=f_classif, k=42)\n",
    "\n",
    "selector.fit(X, y)\n",
    "# Get columns to keep and create new dataframe with those only\n",
    "cols = selector.get_support(indices=True)\n",
    "print(cols)"
   ]
  },
  {
   "cell_type": "code",
   "execution_count": 22,
   "metadata": {},
   "outputs": [],
   "source": [
    "# to remove the rest of the features:\n",
    "X = selector.transform(X)\n",
    "X_teste = selector.transform(X_teste)"
   ]
  },
  {
   "cell_type": "code",
   "execution_count": 23,
   "metadata": {},
   "outputs": [
    {
     "name": "stdout",
     "output_type": "stream",
     "text": [
      "78.56\n"
     ]
    }
   ],
   "source": [
    "# instancia um DecisionTreeClassifier\n",
    "clf = DecisionTreeClassifier()\n",
    "# treina o knn\n",
    "clf.fit(X, y)\n",
    "\n",
    "y_pred = clf.predict(X_teste)\n",
    "#print(y_pred)\n",
    "\n",
    " # gerar score baseado na acurácia\n",
    "acuracidade = round(accuracy_score(y_teste,y_pred)*100,2)\n",
    "print(acuracidade)"
   ]
  },
  {
   "cell_type": "markdown",
   "metadata": {},
   "source": [
    "### Nome dos atributos"
   ]
  },
  {
   "cell_type": "code",
   "execution_count": 24,
   "metadata": {
    "scrolled": true
   },
   "outputs": [
    {
     "name": "stdout",
     "output_type": "stream",
     "text": [
      "Index(['fickett_score-full-sequence', 'G', 'T', 'AA', 'AG', 'AT', 'CG', 'GA',\n",
      "       'GC', 'GG', 'TA', 'TT', 'AAA', 'AAT', 'ACG', 'AGC', 'AGG', 'ATA', 'ATT',\n",
      "       'CAG', 'CAT', 'CGA', 'CTA', 'CTC', 'CTG', 'GAA', 'GAC', 'GAG', 'GCA',\n",
      "       'GCC', 'GCG', 'GCT', 'GGA', 'GGC', 'GGG', 'GGT', 'GTA', 'GTC', 'TAA',\n",
      "       'TAC', 'TAG', 'TAT', 'TCG', 'TCT', 'TGG', 'TGT', 'TTA', 'TTT'],\n",
      "      dtype='object')\n"
     ]
    }
   ],
   "source": [
    "temp = pandas.Series(selector.get_support(indices=False),index = colunas)\n",
    "filterApproach = temp[temp==True].index\n",
    "print(filterApproach)"
   ]
  },
  {
   "cell_type": "code",
   "execution_count": 25,
   "metadata": {},
   "outputs": [],
   "source": [
    "# Deixa no formato list\n",
    "featuresList = filterApproach.tolist()"
   ]
  },
  {
   "cell_type": "code",
   "execution_count": 26,
   "metadata": {},
   "outputs": [
    {
     "name": "stdout",
     "output_type": "stream",
     "text": [
      "['fickett_score-full-sequence', 'G', 'T', 'AA', 'AG', 'AT', 'CG', 'GA', 'GC', 'GG', 'TA', 'TT', 'AAA', 'AAT', 'ACG', 'AGC', 'AGG', 'ATA', 'ATT', 'CAG', 'CAT', 'CGA', 'CTA', 'CTC', 'CTG', 'GAA', 'GAC', 'GAG', 'GCA', 'GCC', 'GCG', 'GCT', 'GGA', 'GGC', 'GGG', 'GGT', 'GTA', 'GTC', 'TAA', 'TAC', 'TAG', 'TAT', 'TCG', 'TCT', 'TGG', 'TGT', 'TTA', 'TTT']\n"
     ]
    }
   ],
   "source": [
    "print(featuresList)"
   ]
  },
  {
   "cell_type": "code",
   "execution_count": 27,
   "metadata": {},
   "outputs": [
    {
     "data": {
      "text/plain": [
       "48"
      ]
     },
     "execution_count": 27,
     "metadata": {},
     "output_type": "execute_result"
    }
   ],
   "source": [
    "len(featuresList)"
   ]
  },
  {
   "cell_type": "markdown",
   "metadata": {},
   "source": [
    "### Avaliação entre as features (Filter x Wrapper)"
   ]
  },
  {
   "cell_type": "code",
   "execution_count": 28,
   "metadata": {},
   "outputs": [
    {
     "name": "stdout",
     "output_type": "stream",
     "text": [
      "Features diferentes:\n",
      "['maximum_ORF_length', 'minimum_GC_content_ORF', 'TTC', 'CGT', 'ATG', 'TCA', 'CAA', 'cv_ORF_length', 'AGA', 'TG', 'AC', 'CGG', 'average_ORF_length', 'fickett_score-ORF', 'CT', 'ACA', 'AGT', 'average_GC_content_ORF', 'cv_GC_content_ORF', 'ACC', 'TGC', 'CCT']\n",
      "Features iguais:\n",
      "['AAT', 'AT', 'T', 'GTC', 'GTA', 'CGA', 'CTA', 'TAA', 'ACG', 'TA', 'AGC', 'GAC', 'GG', 'GAA', 'CTC', 'GGA', 'ATT', 'TGG', 'CG', 'TAC', 'GCT', 'fickett_score-full-sequence', 'TTT', 'GCG', 'TTA', 'AG']\n"
     ]
    }
   ],
   "source": [
    "diff = list(set(wrapperApproach) - set(filterApproach))\n",
    "equal = list(set(wrapperApproach).intersection(filterApproach))\n",
    "print(\"Features diferentes:\")\n",
    "print(diff)\n",
    "print(\"Features iguais:\")\n",
    "print(equal)"
   ]
  },
  {
   "cell_type": "code",
   "execution_count": null,
   "metadata": {},
   "outputs": [],
   "source": []
  },
  {
   "cell_type": "markdown",
   "metadata": {},
   "source": [
    "## Análise por Feature Importance (Método Filtro)"
   ]
  },
  {
   "cell_type": "markdown",
   "metadata": {},
   "source": [
    "Decision tree algorithms like classification and regression trees (CART) offer importance scores based on the reduction in the criterion used to select split points, like Gini or entropy."
   ]
  },
  {
   "cell_type": "code",
   "execution_count": 29,
   "metadata": {},
   "outputs": [],
   "source": [
    "colNames = dadosTreino.columns.tolist()"
   ]
  },
  {
   "cell_type": "code",
   "execution_count": 30,
   "metadata": {
    "scrolled": true
   },
   "outputs": [
    {
     "name": "stdout",
     "output_type": "stream",
     "text": [
      "Feature fickett_score-full-sequence - score 0.31478\n",
      "Feature G - score 0.00735\n",
      "Feature T - score 0.00683\n",
      "Feature AA - score 0.00624\n",
      "Feature AG - score 0.01478\n",
      "Feature AT - score 0.00733\n",
      "Feature CG - score 0.00876\n",
      "Feature GA - score 0.00560\n",
      "Feature GC - score 0.00388\n",
      "Feature GG - score 0.01330\n",
      "Feature TA - score 0.03705\n",
      "Feature TT - score 0.00901\n",
      "Feature AAA - score 0.01915\n",
      "Feature AAT - score 0.02118\n",
      "Feature ACG - score 0.00980\n",
      "Feature AGC - score 0.00592\n",
      "Feature AGG - score 0.00584\n",
      "Feature ATA - score 0.01292\n",
      "Feature ATT - score 0.01021\n",
      "Feature CAG - score 0.00837\n",
      "Feature CAT - score 0.00946\n",
      "Feature CGA - score 0.01049\n",
      "Feature CTA - score 0.01370\n",
      "Feature CTC - score 0.00729\n",
      "Feature CTG - score 0.01127\n",
      "Feature GAA - score 0.01107\n",
      "Feature GAC - score 0.00119\n",
      "Feature GAG - score 0.00869\n",
      "Feature GCA - score 0.01378\n",
      "Feature GCC - score 0.00763\n",
      "Feature GCG - score 0.00479\n",
      "Feature GCT - score 0.00669\n",
      "Feature GGA - score 0.01605\n",
      "Feature GGC - score 0.01431\n",
      "Feature GGG - score 0.00618\n",
      "Feature GGT - score 0.00857\n",
      "Feature GTA - score 0.01111\n",
      "Feature GTC - score 0.02056\n",
      "Feature TAA - score 0.02640\n",
      "Feature TAC - score 0.00895\n",
      "Feature TAG - score 0.02111\n",
      "Feature TAT - score 0.00525\n",
      "Feature TCG - score 0.01269\n",
      "Feature TCT - score 0.00612\n",
      "Feature TGG - score 0.04746\n",
      "Feature TGT - score 0.00864\n",
      "Feature TTA - score 0.01070\n",
      "Feature TTT - score 0.14152\n"
     ]
    },
    {
     "data": {
      "image/png": "[encoded data removed]",
      "text/plain": [
       "<Figure size 432x288 with 1 Axes>"
      ]
     },
     "metadata": {
      "needs_background": "light"
     },
     "output_type": "display_data"
    }
   ],
   "source": [
    "# decision tree for feature importance on a regression problem\n",
    "from sklearn.tree import DecisionTreeClassifier\n",
    "from matplotlib import pyplot\n",
    "\n",
    "# define the model\n",
    "model = DecisionTreeClassifier()\n",
    "# fit the model\n",
    "model.fit(X, y)\n",
    "# get importance\n",
    "importance = model.feature_importances_\n",
    "# summarize feature importance\n",
    "for i,v in enumerate(importance):\n",
    "    print('Feature %s - score %.5f' % (colNames[cols[i]], v) )\n",
    "    #print('Feature: %0d, Score: %.5f' % (i,v))\n",
    "# plot feature importance\n",
    "pyplot.bar([x for x in range(len(importance))], importance)\n",
    "pyplot.show()"
   ]
  },
  {
   "cell_type": "code",
   "execution_count": 31,
   "metadata": {},
   "outputs": [
    {
     "name": "stdout",
     "output_type": "stream",
     "text": [
      "Feature fickett_score-full-sequence - score 0.12247\n",
      "Feature G - score 0.03913\n",
      "Feature T - score 0.02553\n",
      "Feature AA - score 0.01253\n",
      "Feature AG - score 0.01128\n",
      "Feature AT - score 0.01487\n",
      "Feature CG - score 0.00945\n",
      "Feature GA - score 0.01136\n",
      "Feature GC - score 0.01776\n",
      "Feature GG - score 0.04392\n",
      "Feature TA - score 0.02681\n",
      "Feature TT - score 0.04439\n",
      "Feature AAA - score 0.01372\n",
      "Feature AAT - score 0.02986\n",
      "Feature ACG - score 0.01415\n",
      "Feature AGC - score 0.01008\n",
      "Feature AGG - score 0.00996\n",
      "Feature ATA - score 0.01541\n",
      "Feature ATT - score 0.03350\n",
      "Feature CAG - score 0.01526\n",
      "Feature CAT - score 0.01232\n",
      "Feature CGA - score 0.01033\n",
      "Feature CTA - score 0.01154\n",
      "Feature CTC - score 0.01203\n",
      "Feature CTG - score 0.01169\n",
      "Feature GAA - score 0.00968\n",
      "Feature GAC - score 0.00952\n",
      "Feature GAG - score 0.01014\n",
      "Feature GCA - score 0.01146\n",
      "Feature GCC - score 0.00938\n",
      "Feature GCG - score 0.00892\n",
      "Feature GCT - score 0.01801\n",
      "Feature GGA - score 0.02687\n",
      "Feature GGC - score 0.01112\n",
      "Feature GGG - score 0.01238\n",
      "Feature GGT - score 0.01418\n",
      "Feature GTA - score 0.01433\n",
      "Feature GTC - score 0.01509\n",
      "Feature TAA - score 0.03614\n",
      "Feature TAC - score 0.01252\n",
      "Feature TAG - score 0.01318\n",
      "Feature TAT - score 0.01261\n",
      "Feature TCG - score 0.01183\n",
      "Feature TCT - score 0.00964\n",
      "Feature TGG - score 0.03045\n",
      "Feature TGT - score 0.01414\n",
      "Feature TTA - score 0.02286\n",
      "Feature TTT - score 0.08620\n"
     ]
    },
    {
     "data": {
      "image/png": "[encoded data removed]",
      "text/plain": [
       "<Figure size 432x288 with 1 Axes>"
      ]
     },
     "metadata": {
      "needs_background": "light"
     },
     "output_type": "display_data"
    }
   ],
   "source": [
    "# random forest for feature importance on a classification problem\n",
    "from sklearn.datasets import make_classification\n",
    "from sklearn.ensemble import RandomForestClassifier\n",
    "from matplotlib import pyplot\n",
    "# define the model\n",
    "model = RandomForestClassifier()\n",
    "# fit the model\n",
    "model.fit(X, y)\n",
    "# get importance\n",
    "importance = model.feature_importances_\n",
    "# summarize feature importance\n",
    "for i,v in enumerate(importance):\n",
    "     print('Feature %s - score %.5f' % (colNames[cols[i]], v) )\n",
    "     #print('Feature: %0d, Score: %.5f' % (i,v))\n",
    "# plot feature importance\n",
    "pyplot.bar([x for x in range(len(importance))], importance)\n",
    "pyplot.show()"
   ]
  }
 ],
 "metadata": {
  "kernelspec": {
   "display_name": "Python 3",
   "language": "python",
   "name": "python3"
  },
  "language_info": {
   "codemirror_mode": {
    "name": "ipython",
    "version": 3
   },
   "file_extension": ".py",
   "mimetype": "text/x-python",
   "name": "python",
   "nbconvert_exporter": "python",
   "pygments_lexer": "ipython3",
   "version": "3.6.9"
  }
 },
 "nbformat": 4,
 "nbformat_minor": 2
}
