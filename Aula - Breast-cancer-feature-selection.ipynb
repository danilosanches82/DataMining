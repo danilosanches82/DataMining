{
 "cells": [
  {
   "cell_type": "markdown",
   "metadata": {
    "_cell_guid": "b72f3424-c0c2-47e8-b18b-bc89253eab3f",
    "_execution_state": "idle",
    "_uuid": "bbc2abb85c63b8c357f5c2e0140105ed195f7fb4"
   },
   "source": [
    "# Exemplo com seleção de características\n",
    "- Base: Breast Cancer\n",
    "- Link: https://www.kaggle.com/uciml/breast-cancer-wisconsin-data\n"
   ]
  },
  {
   "cell_type": "markdown",
   "metadata": {
    "_cell_guid": "8d7fdae8-1d31-4873-a021-d553e2c4087c",
    "_execution_state": "idle",
    "_uuid": "c28fa7775a99901a882aee31e890ea99fe796d91",
    "slideshow": {
     "slide_type": "slide"
    }
   },
   "source": [
    "# Data Analysis"
   ]
  },
  {
   "cell_type": "code",
   "execution_count": null,
   "metadata": {
    "_cell_guid": "52942f7b-e58d-4275-86f0-ced1bcea06f9",
    "_execution_state": "idle",
    "_uuid": "d7dc365d2933b6675c57c98d438356e4cc1e6125"
   },
   "outputs": [],
   "source": [
    "import numpy as np # linear algebra\n",
    "import pandas as pd # data processing, CSV file I/O (e.g. pd.read_csv)\n",
    "import seaborn as sns # data visualization library  \n",
    "import matplotlib.pyplot as plt\n",
    "import time\n",
    "from subprocess import check_output\n",
    "import warnings\n",
    "warnings.filterwarnings(\"ignore\", category=FutureWarning)"
   ]
  },
  {
   "cell_type": "code",
   "execution_count": null,
   "metadata": {
    "_cell_guid": "c9bd4680-5a5d-4ce5-8b85-1820d2e478d0",
    "_execution_state": "idle",
    "_uuid": "4a65810840012b075b5a359994931bec8acf9ab0"
   },
   "outputs": [],
   "source": [
    "data = pd.read_csv('cancer.csv')"
   ]
  },
  {
   "cell_type": "markdown",
   "metadata": {
    "_cell_guid": "48131d2a-cb21-4c1f-8213-f0e78647287c",
    "_execution_state": "idle",
    "_uuid": "81d7851cbda2bc774e989259005e98999b84c0b2"
   },
   "source": [
    "Before making anything like feature selection, feature extraction and classification, we start with basic data analysis. \n",
    "Lets look at features of data."
   ]
  },
  {
   "cell_type": "code",
   "execution_count": null,
   "metadata": {
    "_cell_guid": "d30f1486-bb97-40d7-9125-67e6f15286dc",
    "_execution_state": "idle",
    "_uuid": "3e01972c830afa1ce55025c0b7a202d4b204dd1d"
   },
   "outputs": [],
   "source": [
    "data.head()  # head method shows only first 5 rows"
   ]
  },
  {
   "cell_type": "code",
   "execution_count": null,
   "metadata": {
    "_cell_guid": "60308baf-344a-41fb-8580-cef707ce5aa8",
    "_execution_state": "idle",
    "_uuid": "54600377cdbec016505dcb970bb1988afbc260a2"
   },
   "outputs": [],
   "source": [
    "# feature names as an Index (panda object including a list of column names and dtype)\n",
    "col = data.columns       # .columns gives columns names in data \n",
    "print(col)"
   ]
  },
  {
   "cell_type": "markdown",
   "metadata": {},
   "source": [
    "## Remoção de atributos irrelevantes"
   ]
  },
  {
   "cell_type": "code",
   "execution_count": null,
   "metadata": {},
   "outputs": [],
   "source": [
    "data.columns"
   ]
  },
  {
   "cell_type": "code",
   "execution_count": null,
   "metadata": {
    "_cell_guid": "8764b4cf-9963-4c1a-b449-059de8153e4c",
    "_execution_state": "idle",
    "_uuid": "94ea75618315ac7af54cf80a501c42b40e77ecbc",
    "scrolled": true
   },
   "outputs": [],
   "source": [
    "# y includes our labels and x includes our features\n",
    "y = data['diagnosis']                   # M or B \n",
    "#lista = ['Unnamed: 32','id','diagnosis']\n",
    "data.drop(['Unnamed: 32','id','diagnosis'],axis = 1, inplace=True)"
   ]
  },
  {
   "cell_type": "code",
   "execution_count": null,
   "metadata": {},
   "outputs": [],
   "source": [
    "x = data"
   ]
  },
  {
   "cell_type": "code",
   "execution_count": null,
   "metadata": {},
   "outputs": [],
   "source": [
    "type(x)"
   ]
  },
  {
   "cell_type": "markdown",
   "metadata": {},
   "source": [
    "## Distruição das amostras entre as classes"
   ]
  },
  {
   "cell_type": "code",
   "execution_count": null,
   "metadata": {
    "_cell_guid": "31ec8d06-ea25-4b34-84ca-c322b3d8a10f",
    "_execution_state": "idle",
    "_uuid": "71fecf26e957a2d670182d607aca5a7b92b4a3b6"
   },
   "outputs": [],
   "source": [
    "sns.set(style=\"darkgrid\")\n",
    "ax = sns.countplot(x = y)       # M = 212, B = 357\n",
    "B, M = y.value_counts(sort=True) #sort=True (default) in order to be sure B, M are in the right order (alphabetical)\n",
    "print('Number of Benign: ',B)\n",
    "print('Number of Malignant : ',M)"
   ]
  },
  {
   "cell_type": "markdown",
   "metadata": {
    "_uuid": "94fe7f8e5dc03cecd9748b01b6837429024d8a75"
   },
   "source": [
    "### Verifica se há dados faltantes"
   ]
  },
  {
   "cell_type": "code",
   "execution_count": null,
   "metadata": {
    "_uuid": "f08888ce25b77ff7bdc4ea6d6d1b1a043e5711c1"
   },
   "outputs": [],
   "source": [
    "#check if there is a NaN value in our data frame x, a False indicates there are no missing values\n",
    "x.isnull().values.any()"
   ]
  },
  {
   "cell_type": "markdown",
   "metadata": {
    "_uuid": "e021de7c8f5408e22cee520cfb4207d8d6d7cb09"
   },
   "source": [
    "Let's now use the describe function in order to look at our features :"
   ]
  },
  {
   "cell_type": "code",
   "execution_count": null,
   "metadata": {
    "_cell_guid": "c92292c2-d999-42f3-8618-73b231c163e6",
    "_execution_state": "idle",
    "_uuid": "7d909ed445dd83306413a72986cebc17d1814cc7"
   },
   "outputs": [],
   "source": [
    "x.describe()"
   ]
  },
  {
   "cell_type": "markdown",
   "metadata": {},
   "source": [
    "## Normalização dos dados"
   ]
  },
  {
   "cell_type": "code",
   "execution_count": null,
   "metadata": {},
   "outputs": [],
   "source": [
    "from sklearn.preprocessing import MinMaxScaler\n",
    "\n",
    "# create a scaler object\n",
    "scaler = MinMaxScaler()\n",
    "# fit and transform the data\n",
    "data_normal = pd.DataFrame(scaler.fit_transform(data), columns=data.columns)"
   ]
  },
  {
   "cell_type": "code",
   "execution_count": null,
   "metadata": {},
   "outputs": [],
   "source": [
    "data_normal"
   ]
  },
  {
   "cell_type": "markdown",
   "metadata": {
    "_cell_guid": "6179a010-0819-481e-8095-72ba1021fdcd",
    "_execution_state": "idle",
    "_uuid": "3edac4b24f82f00d32efe9d812aed40fb06fdbed"
   },
   "source": [
    "# Visualização\n",
    "-- https://mode.com/blog/violin-plot-examples/\n"
   ]
  },
  {
   "cell_type": "code",
   "execution_count": null,
   "metadata": {},
   "outputs": [],
   "source": [
    "def violin_plot(beginning,end):\n",
    "    data = pd.concat([y,data_normal.iloc[:,beginning:end]],axis=1)\n",
    "    data = pd.melt(data, id_vars=\"diagnosis\", var_name=\"features\", value_name='value')\n",
    "    plt.figure(figsize=(10,10))\n",
    "    sns.violinplot(x=\"features\", y=\"value\", hue=\"diagnosis\", data=data, split=True, inner=\"box\")\n",
    "    plt.xticks(rotation=45)"
   ]
  },
  {
   "cell_type": "code",
   "execution_count": null,
   "metadata": {
    "_uuid": "49718aa097b734a82494eb45998e674301d7982e"
   },
   "outputs": [],
   "source": [
    "# first ten features\n",
    "violin_plot(0,10)"
   ]
  },
  {
   "cell_type": "code",
   "execution_count": null,
   "metadata": {
    "_cell_guid": "46ee71d3-93c1-4c2d-bb00-6995f7a1c816",
    "_execution_state": "idle",
    "_uuid": "0a18301387ce26b58a68e5a2d340b39e86c1f5e0"
   },
   "outputs": [],
   "source": [
    "# Second ten features\n",
    "violin_plot(10,20)"
   ]
  },
  {
   "cell_type": "code",
   "execution_count": null,
   "metadata": {
    "_cell_guid": "58f17ef1-6530-4db8-bcd9-32691363e8a9",
    "_execution_state": "idle",
    "_uuid": "d1c4e84c3d6bda4b9ff9e284d8c790dd46980c31"
   },
   "outputs": [],
   "source": [
    "# Third ten features\n",
    "violin_plot(20,31)"
   ]
  },
  {
   "cell_type": "code",
   "execution_count": null,
   "metadata": {},
   "outputs": [],
   "source": [
    "data_normal.columns"
   ]
  },
  {
   "cell_type": "code",
   "execution_count": null,
   "metadata": {
    "_cell_guid": "47880bbb-5dbe-4836-938c-0816a03e8fb4",
    "_execution_state": "idle",
    "_uuid": "859ec665af4be178c3e36b1c2799f44c5ccef901"
   },
   "outputs": [],
   "source": [
    "def joint_plot(feature1, feature2):\n",
    "    \"\"\" I have a FutureWarning on this function, anyone knows how to get rid of it ?\"\"\"\n",
    "    sns.jointplot(x.loc[:,feature1], x.loc[:,feature2], kind=\"regg\", color=\"#ce1414\")"
   ]
  },
  {
   "cell_type": "code",
   "execution_count": null,
   "metadata": {
    "_uuid": "ba45ef3716e95fb0b3a700d2a52550c7fd9eca97"
   },
   "outputs": [],
   "source": [
    "joint_plot(\"radius_worst\",\"perimeter_worst\")\n",
    "#joint_plot(\"radius_worst\",\"smoothness_worst\")"
   ]
  },
  {
   "cell_type": "code",
   "execution_count": null,
   "metadata": {
    "_uuid": "a1e730025fd8ea5c94f0258137b92701fe62c26b"
   },
   "outputs": [],
   "source": [
    "joint_plot(\"concavity_worst\",\"concave points_worst\")"
   ]
  },
  {
   "cell_type": "markdown",
   "metadata": {},
   "source": [
    "## Mapa de calor com a correlação entre os atributos"
   ]
  },
  {
   "cell_type": "code",
   "execution_count": null,
   "metadata": {
    "_cell_guid": "9e1e7d8a-bbf2-4aab-90e7-78d4c4ccf416",
    "_execution_state": "idle",
    "_uuid": "0eeb70ddffc8ac332ee076f2f6b2833a6ffddd2d"
   },
   "outputs": [],
   "source": [
    "#correlation map\n",
    "f,ax = plt.subplots(figsize=(18, 18))\n",
    "sns.heatmap(x.corr(), annot=True, linewidths=.5, fmt= '.1f',ax=ax)"
   ]
  },
  {
   "cell_type": "markdown",
   "metadata": {
    "_cell_guid": "6786734a-40a9-46b6-a13a-97ee9c569636",
    "_execution_state": "idle",
    "_uuid": "84b145dd0c13a3a0d4dd4f9b9fd1bd782e11fcf8"
   },
   "source": [
    "# Seleção de características e Aprendizado de Máquina\n"
   ]
  },
  {
   "cell_type": "markdown",
   "metadata": {
    "_cell_guid": "c7b2df4e-270e-4c94-8789-177f5e90ac46",
    "_execution_state": "idle",
    "_uuid": "a042df90ef7138d6f101463e93936119176bdc0d"
   },
   "source": [
    "In this section, we will select feature with different methods that are feature selection with correlation, recursive feature elimination (RFE) and recursive feature elimination with cross validation (RFECV). We will use the Random Forest classification to train our model. "
   ]
  },
  {
   "cell_type": "markdown",
   "metadata": {
    "_cell_guid": "94d217e3-b2b3-4016-b72e-f8d521d17af7",
    "_execution_state": "idle",
    "_uuid": "39003c7b75f265bf0826f407433e65923c4dd017"
   },
   "source": [
    "## 1) Feature Selection with correlation and Random Forest classification"
   ]
  },
  {
   "cell_type": "markdown",
   "metadata": {
    "_cell_guid": "eea2971b-b703-4e1b-b048-128501506f33",
    "_execution_state": "idle",
    "_uuid": "acde9c0b406d72122473f8292d641a9fcb8a8682"
   },
   "source": [
    "**Compactness_mean, concavity_mean and concave points_mean** are correlated -> I choose **concavity_mean**.\n",
    "\n",
    "**radius_se, perimeter_se and area_se** are correlated -> I choose  **area_se**.\n",
    "\n",
    "**radius_worst, perimeter_worst and area_worst** are correlated -> I choose  **area_worst**.\n",
    "\n",
    "**Compactness_worst, concavity_worst and concave points_worst** are correlated -> I choose  **concavity_worst**.\n",
    "\n",
    "**Compactness_se, concavity_se and concave points_se** are correlated -> I choose  **concavity_se**.\n",
    "\n",
    "**texture_mean and texture_worst are correlated** are correlated -> I choose  **texture_mean**.\n",
    "\n",
    "**area_worst and area_mean** are correlated -> I choose  **area_mean**.\n",
    "\n",
    "\n"
   ]
  },
  {
   "cell_type": "code",
   "execution_count": null,
   "metadata": {
    "_cell_guid": "ef8d06df-bfcc-4e9a-a3ba-5016ec0c5bd5",
    "_execution_state": "idle",
    "_uuid": "117f3e858e806f3f26a68dadf3fc89d471010156"
   },
   "outputs": [],
   "source": [
    "drop_list = ['perimeter_mean','radius_mean','compactness_mean','concave points_mean','radius_se','perimeter_se','radius_worst','perimeter_worst','compactness_worst','concave points_worst','compactness_se','concave points_se','texture_worst','area_worst']\n",
    "x_1 = x.drop(drop_list,axis = 1 )        # do not modify x, we will use it later \n",
    "x_1.head()"
   ]
  },
  {
   "cell_type": "code",
   "execution_count": null,
   "metadata": {
    "_cell_guid": "733f0784-4a3f-410c-a220-f98591825f2e",
    "_execution_state": "idle",
    "_uuid": "eec5424039036e1af43ba0795b76393805308f97"
   },
   "outputs": [],
   "source": [
    "#correlation map\n",
    "f,ax = plt.subplots(figsize=(14, 14))\n",
    "sns.heatmap(x_1.corr(), annot=True, linewidths=.5, fmt= '.1f',ax=ax)"
   ]
  },
  {
   "cell_type": "markdown",
   "metadata": {},
   "source": [
    "### Transformação dos dados categóricos para numérico\n",
    "\n",
    "-- https://towardsdatascience.com/categorical-encoding-using-label-encoding-and-one-hot-encoder-911ef77fb5bd"
   ]
  },
  {
   "cell_type": "code",
   "execution_count": null,
   "metadata": {
    "_cell_guid": "111af932-96f8-4105-8deb-ba1172edd203",
    "_execution_state": "idle",
    "_uuid": "c7a6af60a44959f81593d788934a49c9259d8b43"
   },
   "outputs": [],
   "source": [
    "from sklearn.model_selection import train_test_split\n",
    "from sklearn.ensemble import RandomForestClassifier\n",
    "from sklearn.metrics import f1_score, confusion_matrix\n",
    "from sklearn.metrics import accuracy_score, recall_score\n",
    "from sklearn.preprocessing import LabelEncoder\n",
    "\n",
    "#Binary format, with B=0 and M=1\n",
    "#y = y.replace(\"B\", 0)\n",
    "#y = y.replace(\"M\", 1)\n",
    "\n",
    "# Para obter as classes como inteiros, utilizamos\n",
    "# a classe LabelEncoder da scikit-learn\n",
    "le = LabelEncoder()\n",
    "y = le.fit_transform(y)\n",
    "\n",
    "# split data train 70 % and test 30 %\n",
    "x_train, x_test, y_train, y_test = train_test_split(data_normal, y, test_size=0.3, random_state=42)\n",
    "\n",
    "#random forest classifier with n_estimators=10 (default)\n",
    "clf_rf = RandomForestClassifier(random_state=43)      \n",
    "clr_rf = clf_rf.fit(x_train,y_train)\n",
    "\n",
    "recall = recall_score(y_test,clf_rf.predict(x_test))\n",
    "print('Recall is: ', recall)\n",
    "accuracy = accuracy_score(y_test,clf_rf.predict(x_test))\n",
    "print('Accuracy is: ', accuracy)\n",
    "f1 = f1_score(y_test,clf_rf.predict(x_test))\n",
    "print('F1 score is: ', f1)\n",
    "cm = confusion_matrix(y_test,clf_rf.predict(x_test))\n",
    "sns.heatmap(cm,annot=True,fmt=\"d\")"
   ]
  },
  {
   "cell_type": "markdown",
   "metadata": {
    "_cell_guid": "702ad2b3-5b12-4d15-93b1-e7d62dfd1040",
    "_execution_state": "idle",
    "_uuid": "7a3c3050dd9d694e52962c7c712b1ea16aab6fdf"
   },
   "source": [
    "## 2) Recursive feature elimination (RFE) with Random Forest\n",
    "\n",
    "RFE uses one of the classification methods (random forest in our example), assign weights to each feature. Whose absolute weights are the smallest are pruned from the current set of features. That procedure is recursively repeated on the pruned set until the desired number of features is reached."
   ]
  },
  {
   "cell_type": "code",
   "execution_count": null,
   "metadata": {
    "_cell_guid": "8df88bb5-8003-4696-9efe-63ebf8d609a5",
    "_execution_state": "idle",
    "_uuid": "c384a5240d1c1e9e2a6750e5d218dadaf24d2035"
   },
   "outputs": [],
   "source": [
    "from sklearn.feature_selection import RFE\n",
    "\n",
    "# split data train 70 % and test 30, this time with x and not x_1 in order to have all the features %\n",
    "x_train, x_test, y_train, y_test = train_test_split(x, y, test_size=0.3, random_state=40)\n",
    "\n",
    "# Create the RFE object and rank each pixel\n",
    "clf_rf_2 = RandomForestClassifier(random_state=50)      \n",
    "rfe = RFE(estimator=clf_rf_2, n_features_to_select=5, step=1)\n",
    "rfe = rfe.fit(x_train, y_train)"
   ]
  },
  {
   "cell_type": "code",
   "execution_count": null,
   "metadata": {
    "_uuid": "253eb643648479a61a0a38dba84c0d9e6691cd81"
   },
   "outputs": [],
   "source": [
    "print('Atributos abordagem rfe:',x_train.columns[rfe.support_])"
   ]
  },
  {
   "cell_type": "code",
   "execution_count": null,
   "metadata": {},
   "outputs": [],
   "source": [
    "type(x_train.columns[rfe.support_])"
   ]
  },
  {
   "cell_type": "markdown",
   "metadata": {
    "_cell_guid": "92aa6013-3e16-4005-ab1b-b7ce53e78bd3",
    "_execution_state": "idle",
    "_uuid": "ce670f778a661e8ddc3b7b21a43ccb48a551581a"
   },
   "source": [
    "Chosen 16 best features by rfe are different than the one obtained with the previous naive method. Therefore we do need to calculate recall again."
   ]
  },
  {
   "cell_type": "code",
   "execution_count": null,
   "metadata": {
    "_uuid": "a262375d49c78e8a55c573668c0848d6492a8004"
   },
   "outputs": [],
   "source": [
    "recall = recall_score(y_test,rfe.predict(x_test))\n",
    "print('Recall is: ', recall)\n",
    "accuracy = accuracy_score(y_test,rfe.predict(x_test))\n",
    "print('Accuracy is: ', accuracy)\n",
    "f1 = f1_score(y_test,rfe.predict(x_test))\n",
    "print('F1 score is: ', f1)\n",
    "cm = confusion_matrix(y_test,rfe.predict(x_test))\n",
    "sns.heatmap(cm,annot=True,fmt=\"d\")"
   ]
  },
  {
   "cell_type": "markdown",
   "metadata": {
    "_cell_guid": "22a4f840-2a37-4047-9804-129e7f68f74a",
    "_execution_state": "idle",
    "_uuid": "42a8c3f2ef0e5978b620eea737e6e234dc79cfe8"
   },
   "source": [
    "## 3) Recursive feature elimination with cross validation and Random Forest classification\n"
   ]
  },
  {
   "cell_type": "code",
   "execution_count": null,
   "metadata": {
    "_cell_guid": "7a5d4d69-7734-4465-89cc-f46b4af4c548",
    "_execution_state": "idle",
    "_uuid": "0d7803966979745a8bdbdbc44a1927558485640a"
   },
   "outputs": [],
   "source": [
    "from sklearn.feature_selection import RFECV\n",
    "\n",
    "clf_rf_3 = RandomForestClassifier(random_state=43) \n",
    "rfecv = RFECV(estimator=clf_rf_3, step=1, cv=5, scoring='recall')   #5-fold cross-validation\n",
    "rfecv = rfecv.fit(x_train, y_train)\n",
    "\n",
    "print('Optimal number of features :', rfecv.n_features_)\n",
    "print('Best features :', x_train.columns[rfecv.support_])"
   ]
  },
  {
   "cell_type": "code",
   "execution_count": null,
   "metadata": {},
   "outputs": [],
   "source": [
    "type(x_train.columns[rfecv.support_])"
   ]
  },
  {
   "cell_type": "code",
   "execution_count": null,
   "metadata": {
    "_cell_guid": "5b69144b-72e4-4ac3-b8a8-c9ebbf8ffa3b",
    "_execution_state": "idle",
    "_uuid": "f362bfa341032f2bb1bacc1c50675a1916f5c536"
   },
   "outputs": [],
   "source": [
    "# Plot number of features VS. cross-validation scores\n",
    "import matplotlib.pyplot as plt\n",
    "plt.figure()\n",
    "plt.xlabel(\"Number of features selected\")\n",
    "plt.ylabel(\"Cross validation score of number of selected features\")\n",
    "plt.plot(range(1, len(rfecv.grid_scores_) + 1), rfecv.grid_scores_)\n",
    "plt.show()"
   ]
  },
  {
   "cell_type": "markdown",
   "metadata": {
    "_uuid": "99feee06d753c35f5c64d5f5b26b5ab105ab8161"
   },
   "source": [
    "## 4) Utilizando abordagem Filtro"
   ]
  },
  {
   "cell_type": "code",
   "execution_count": null,
   "metadata": {},
   "outputs": [],
   "source": [
    "# Import the necessary libraries first\n",
    "from sklearn.feature_selection import SelectKBest\n",
    "from sklearn.feature_selection import chi2"
   ]
  },
  {
   "cell_type": "code",
   "execution_count": null,
   "metadata": {},
   "outputs": [],
   "source": [
    "#Feature selection with Mutual Information \n",
    "import numpy\n",
    "import pandas\n",
    "from pandas.plotting import scatter_matrix\n",
    "from sklearn.feature_selection import chi2\n",
    "from sklearn.feature_selection import SelectKBest\n",
    "from sklearn.feature_selection import mutual_info_classif\n",
    "from sklearn.feature_selection import f_classif\n",
    "\n",
    "# split data train 70 % and test 30 %\n",
    "#x_train, x_test, y_train, y_test = train_test_split(x_1, y, test_size=0.3, random_state=42)\n",
    "x_train, x_test, y_train, y_test = train_test_split(data_normal, y, test_size=0.3, random_state=40)\n",
    "\n",
    "#selector = SelectKBest(score_func=chi2, k=3)\n",
    "selector = SelectKBest(score_func=mutual_info_classif, k=5)\n",
    "#selector = SelectKBest(score_func=f_classif, k=42)\n",
    "\n",
    "#selector.fit(data_normal, y)\n",
    "selector.fit(x_train, y_train)\n",
    "\n",
    "# Get columns to keep and create new dataframe with those only\n",
    "cols = selector.get_support(indices=True)\n",
    "print(cols)\n",
    "\n",
    "# print the scores\n",
    "#for i in range(len(selector.scores_)):\n",
    " #   print('Feature %d: %f' % (i, selector.scores_[i]))\n",
    "\n",
    "\n",
    "# plot the scores\n",
    "'''\n",
    "plt.bar([i for i in range(len(fit.scores_))], fit.scores_)\n",
    "plt.show()\n",
    "'''"
   ]
  },
  {
   "cell_type": "code",
   "execution_count": null,
   "metadata": {},
   "outputs": [],
   "source": [
    "# to remove the rest of the features:\n",
    "\n",
    "x_train = selector.transform(x_train)\n",
    "x_test = selector.transform(x_test)"
   ]
  },
  {
   "cell_type": "code",
   "execution_count": null,
   "metadata": {},
   "outputs": [],
   "source": [
    "#random forest classifier with n_estimators=10 (default)\n",
    "clf_rf = RandomForestClassifier(random_state=50)      \n",
    "clr_rf = clf_rf.fit(x_train,y_train)\n",
    "\n",
    "recall = recall_score(y_test,clf_rf.predict(x_test))\n",
    "print('Recall is: ', recall)\n",
    "accuracy = accuracy_score(y_test,clf_rf.predict(x_test))\n",
    "print('Accuracy is: ', accuracy)\n",
    "f1 = f1_score(y_test,clf_rf.predict(x_test))\n",
    "print('F1 score is: ', f1)\n",
    "cm = confusion_matrix(y_test,clf_rf.predict(x_test))\n",
    "sns.heatmap(cm,annot=True,fmt=\"d\")"
   ]
  },
  {
   "cell_type": "markdown",
   "metadata": {},
   "source": [
    "### Nome dos atributos"
   ]
  },
  {
   "cell_type": "code",
   "execution_count": null,
   "metadata": {
    "scrolled": false
   },
   "outputs": [],
   "source": [
    "colname_Filter = data_normal.columns[cols]\n",
    "print (colname_Filter)\n"
   ]
  },
  {
   "cell_type": "code",
   "execution_count": null,
   "metadata": {},
   "outputs": [],
   "source": [
    "type(colname_Filter)"
   ]
  },
  {
   "cell_type": "markdown",
   "metadata": {},
   "source": [
    "### Avaliação entre as features (Filter x Wrapper)"
   ]
  },
  {
   "cell_type": "code",
   "execution_count": null,
   "metadata": {},
   "outputs": [],
   "source": [
    "wrapperFeatures = x_train.columns[rfecv.support_]"
   ]
  },
  {
   "cell_type": "code",
   "execution_count": null,
   "metadata": {},
   "outputs": [],
   "source": [
    "set(wrapperFeatures.difference(colname_Filter))"
   ]
  },
  {
   "cell_type": "code",
   "execution_count": null,
   "metadata": {},
   "outputs": [],
   "source": [
    "wrapperFeatures.equals(colname_Filter)"
   ]
  },
  {
   "cell_type": "code",
   "execution_count": null,
   "metadata": {},
   "outputs": [],
   "source": [
    "set(colname_Filter.difference(wrapperFeatures))"
   ]
  },
  {
   "cell_type": "code",
   "execution_count": null,
   "metadata": {},
   "outputs": [],
   "source": [
    "len(colname_Filter)"
   ]
  },
  {
   "cell_type": "code",
   "execution_count": null,
   "metadata": {},
   "outputs": [],
   "source": [
    "len(wrapperFeatures)"
   ]
  },
  {
   "cell_type": "code",
   "execution_count": null,
   "metadata": {},
   "outputs": [],
   "source": [
    "set(wrapperFeatures) - set(colname_Filter)\n"
   ]
  },
  {
   "cell_type": "code",
   "execution_count": null,
   "metadata": {},
   "outputs": [],
   "source": [
    "set(wrapperFeatures).intersection(colname_Filter)\n"
   ]
  },
  {
   "cell_type": "code",
   "execution_count": null,
   "metadata": {},
   "outputs": [],
   "source": [
    "set(colname_Filter).intersection(wrapperFeatures)\n"
   ]
  },
  {
   "cell_type": "code",
   "execution_count": null,
   "metadata": {},
   "outputs": [],
   "source": [
    "set(colname_Filter) ^ set(wrapperFeatures)\n"
   ]
  },
  {
   "cell_type": "markdown",
   "metadata": {},
   "source": [
    "# Atividade Prática\n",
    "\n",
    "- Base: https://www.kaggle.com/houcembenmansour/predict-diabetes-based-on-diagnostic-measures\n",
    "\n",
    "- Avaliar os atributos a partir do gráfico violin plot\n",
    "- Heatmap\n",
    "\n",
    "- Desenvolver um modelo preditivo baseado em Randon Forest com todos os atributos\n",
    "\n",
    "- Avaliação das features\n",
    "- RFE (Wrapper)\n",
    "- Mutual information\n",
    "\n",
    "- Apresentar o conjunto mínimo com perda entre 1-2% das métricas com releação à todos atributos\n",
    "- Mostrar os atributos diferentes (iguais) entre mutual information e RFE\n",
    "\n"
   ]
  }
 ],
 "metadata": {
  "kernelspec": {
   "display_name": "Python 3",
   "language": "python",
   "name": "python3"
  },
  "language_info": {
   "codemirror_mode": {
    "name": "ipython",
    "version": 3
   },
   "file_extension": ".py",
   "mimetype": "text/x-python",
   "name": "python",
   "nbconvert_exporter": "python",
   "pygments_lexer": "ipython3",
   "version": "3.6.9"
  }
 },
 "nbformat": 4,
 "nbformat_minor": 1
}
